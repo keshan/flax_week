{
 "cells": [
  {
   "cell_type": "code",
   "execution_count": 1,
   "id": "c6b17ab0-6903-4ae9-978f-fa203b3df690",
   "metadata": {},
   "outputs": [],
   "source": [
    "from datasets import load_dataset"
   ]
  },
  {
   "cell_type": "code",
   "execution_count": 86,
   "id": "aa65d474-0bfd-42b6-a351-c2c44325343d",
   "metadata": {},
   "outputs": [
    {
     "name": "stdout",
     "output_type": "stream",
     "text": [
      "Downloading and preparing dataset large_asr/si (download: Unknown size, generated: Unknown size, post-processed: Unknown size, total: Unknown size) to /home/Keshan/.cache/huggingface/datasets/large_asr/si/1.0.0/d41ab6e2a39919a36690239e4dba3e032697547221e6d726825bf13b20a8a5b1...\n",
      "100% [..........................................................................] 2886835 / 2886835"
     ]
    },
    {
     "data": {
      "application/vnd.jupyter.widget-view+json": {
       "model_id": "",
       "version_major": 2,
       "version_minor": 0
      },
      "text/plain": [
       "0 examples [00:00, ? examples/s]"
      ]
     },
     "metadata": {},
     "output_type": "display_data"
    },
    {
     "data": {
      "application/vnd.jupyter.widget-view+json": {
       "model_id": "",
       "version_major": 2,
       "version_minor": 0
      },
      "text/plain": [
       "0 examples [00:00, ? examples/s]"
      ]
     },
     "metadata": {},
     "output_type": "display_data"
    },
    {
     "name": "stdout",
     "output_type": "stream",
     "text": [
      "Dataset large_asr downloaded and prepared to /home/Keshan/.cache/huggingface/datasets/large_asr/si/1.0.0/d41ab6e2a39919a36690239e4dba3e032697547221e6d726825bf13b20a8a5b1. Subsequent calls will reuse this data.\n"
     ]
    }
   ],
   "source": [
    "dataset = load_dataset('../large-sinhala-asr-dataset/') # load_dataset('text', data_files={'train': 'file_0.txt', 'test': 'file_5000.txt'})"
   ]
  },
  {
   "cell_type": "code",
   "execution_count": 85,
   "id": "5f3ed739-6ba9-4da5-8fd5-cad44a1643cd",
   "metadata": {},
   "outputs": [
    {
     "name": "stdout",
     "output_type": "stream",
     "text": [
      "/home/Keshan/.cache/huggingface/datasets/downloads/4456dc1a200214e74ffbb12abd7254077f42ebd9dd2bff17b096dbbd04808984\n"
     ]
    }
   ],
   "source": [
    "!ls /home/Keshan/.cache/huggingface/datasets/downloads/4456dc1a200214e74ffbb12abd7254077f42ebd9dd2bff17b096dbbd04808984"
   ]
  },
  {
   "cell_type": "code",
   "execution_count": 7,
   "id": "9f00a749-0b21-4e32-b83d-7700e14ebdcb",
   "metadata": {},
   "outputs": [
    {
     "name": "stdout",
     "output_type": "stream",
     "text": [
      "/home/Keshan/asr/old\n"
     ]
    }
   ],
   "source": [
    "!pwd"
   ]
  },
  {
   "cell_type": "code",
   "execution_count": 30,
   "id": "a45177e6-1926-429b-968d-eef356a2d1c3",
   "metadata": {},
   "outputs": [],
   "source": [
    "import pandas as pd"
   ]
  },
  {
   "cell_type": "code",
   "execution_count": 31,
   "id": "9aa2569f-21dc-4704-a590-af7241834fc9",
   "metadata": {},
   "outputs": [],
   "source": [
    "df = pd.read_csv('../large-sinhala-asr-dataset/train.tsv', sep='\\t')"
   ]
  },
  {
   "cell_type": "code",
   "execution_count": 32,
   "id": "f8d6c898-40d8-4fbd-bcf7-925dc7d79a38",
   "metadata": {},
   "outputs": [
    {
     "data": {
      "text/html": [
       "<div>\n",
       "<style scoped>\n",
       "    .dataframe tbody tr th:only-of-type {\n",
       "        vertical-align: middle;\n",
       "    }\n",
       "\n",
       "    .dataframe tbody tr th {\n",
       "        vertical-align: top;\n",
       "    }\n",
       "\n",
       "    .dataframe thead th {\n",
       "        text-align: right;\n",
       "    }\n",
       "</style>\n",
       "<table border=\"1\" class=\"dataframe\">\n",
       "  <thead>\n",
       "    <tr style=\"text-align: right;\">\n",
       "      <th></th>\n",
       "      <th>filename</th>\n",
       "      <th>x</th>\n",
       "      <th>sentence</th>\n",
       "      <th>full</th>\n",
       "      <th>file</th>\n",
       "    </tr>\n",
       "  </thead>\n",
       "  <tbody>\n",
       "    <tr>\n",
       "      <th>0</th>\n",
       "      <td>4c0b9a9df5</td>\n",
       "      <td>80862</td>\n",
       "      <td>නැවත අඳුරු කාලයක් උදාවන්නේ</td>\n",
       "      <td>4c0b9a9df580862</td>\n",
       "      <td>large-sinhala-asr-dataset/asr_sinhala/data/4c/...</td>\n",
       "    </tr>\n",
       "    <tr>\n",
       "      <th>1</th>\n",
       "      <td>e02e7b59a8</td>\n",
       "      <td>225dc</td>\n",
       "      <td>මේ බව හෙළි කරන තවත් වැදගත් සූත්‍රයක් ලෙස</td>\n",
       "      <td>e02e7b59a8225dc</td>\n",
       "      <td>large-sinhala-asr-dataset/asr_sinhala/data/e0/...</td>\n",
       "    </tr>\n",
       "    <tr>\n",
       "      <th>2</th>\n",
       "      <td>3db9551960</td>\n",
       "      <td>03b7a</td>\n",
       "      <td>ගැටළුව අප තවදුරටත්</td>\n",
       "      <td>3db955196003b7a</td>\n",
       "      <td>large-sinhala-asr-dataset/asr_sinhala/data/3d/...</td>\n",
       "    </tr>\n",
       "    <tr>\n",
       "      <th>3</th>\n",
       "      <td>3c83b83cfb</td>\n",
       "      <td>349a2</td>\n",
       "      <td>පාප මිත්‍රයන් ද සුලභව දැක ගත හැකි ය.</td>\n",
       "      <td>3c83b83cfb349a2</td>\n",
       "      <td>large-sinhala-asr-dataset/asr_sinhala/data/3c/...</td>\n",
       "    </tr>\n",
       "    <tr>\n",
       "      <th>4</th>\n",
       "      <td>f09d9e7f47</td>\n",
       "      <td>91589</td>\n",
       "      <td>බුදුරජාණන් වහන්සේගේ අවවාදය මත පිහිටා</td>\n",
       "      <td>f09d9e7f4791589</td>\n",
       "      <td>large-sinhala-asr-dataset/asr_sinhala/data/f0/...</td>\n",
       "    </tr>\n",
       "  </tbody>\n",
       "</table>\n",
       "</div>"
      ],
      "text/plain": [
       "     filename      x                                  sentence  \\\n",
       "0  4c0b9a9df5  80862                නැවත අඳුරු කාලයක් උදාවන්නේ   \n",
       "1  e02e7b59a8  225dc  මේ බව හෙළි කරන තවත් වැදගත් සූත්‍රයක් ලෙස   \n",
       "2  3db9551960  03b7a                        ගැටළුව අප තවදුරටත්   \n",
       "3  3c83b83cfb  349a2      පාප මිත්‍රයන් ද සුලභව දැක ගත හැකි ය.   \n",
       "4  f09d9e7f47  91589      බුදුරජාණන් වහන්සේගේ අවවාදය මත පිහිටා   \n",
       "\n",
       "              full                                               file  \n",
       "0  4c0b9a9df580862  large-sinhala-asr-dataset/asr_sinhala/data/4c/...  \n",
       "1  e02e7b59a8225dc  large-sinhala-asr-dataset/asr_sinhala/data/e0/...  \n",
       "2  3db955196003b7a  large-sinhala-asr-dataset/asr_sinhala/data/3d/...  \n",
       "3  3c83b83cfb349a2  large-sinhala-asr-dataset/asr_sinhala/data/3c/...  \n",
       "4  f09d9e7f4791589  large-sinhala-asr-dataset/asr_sinhala/data/f0/...  "
      ]
     },
     "execution_count": 32,
     "metadata": {},
     "output_type": "execute_result"
    }
   ],
   "source": [
    "df.head()"
   ]
  },
  {
   "cell_type": "code",
   "execution_count": 28,
   "id": "af56099c-35e9-4925-ac4e-b2da2b96b998",
   "metadata": {},
   "outputs": [
    {
     "data": {
      "text/plain": [
       "132546"
      ]
     },
     "execution_count": 28,
     "metadata": {},
     "output_type": "execute_result"
    }
   ],
   "source": [
    "len(df.loc[~df.sentence.str.contains('\\t'), :])"
   ]
  },
  {
   "cell_type": "code",
   "execution_count": 33,
   "id": "709a8443-81ea-4751-932e-f054c59bd063",
   "metadata": {},
   "outputs": [],
   "source": [
    "test = pd.read_csv('../large-sinhala-asr-dataset/test.tsv', sep='\\t')"
   ]
  },
  {
   "cell_type": "code",
   "execution_count": 34,
   "id": "220af4bb-8640-4455-9daf-9999b2362b03",
   "metadata": {},
   "outputs": [
    {
     "data": {
      "text/html": [
       "<div>\n",
       "<style scoped>\n",
       "    .dataframe tbody tr th:only-of-type {\n",
       "        vertical-align: middle;\n",
       "    }\n",
       "\n",
       "    .dataframe tbody tr th {\n",
       "        vertical-align: top;\n",
       "    }\n",
       "\n",
       "    .dataframe thead th {\n",
       "        text-align: right;\n",
       "    }\n",
       "</style>\n",
       "<table border=\"1\" class=\"dataframe\">\n",
       "  <thead>\n",
       "    <tr style=\"text-align: right;\">\n",
       "      <th></th>\n",
       "      <th>filenametxt\"sentence\"tfulltfile</th>\n",
       "    </tr>\n",
       "  </thead>\n",
       "  <tbody>\n",
       "    <tr>\n",
       "      <th>0</th>\n",
       "      <td>1f0fd51088t7ec98tඋඹලව දෙයියොම බලා ගනිත්වාt1f0f...</td>\n",
       "    </tr>\n",
       "    <tr>\n",
       "      <th>1</th>\n",
       "      <td>f88a59b5deta1577t\"sarath fonseka\"tf88a59b5dea1...</td>\n",
       "    </tr>\n",
       "    <tr>\n",
       "      <th>2</th>\n",
       "      <td>aa3321ef14tb9dc2tපස්ස මැදට දෙසඤ්ඤාtaa3321ef14b...</td>\n",
       "    </tr>\n",
       "    <tr>\n",
       "      <th>3</th>\n",
       "      <td>7bb480d680t8af52tඔය කියන ආයතනය තියෙන්නේt7bb480...</td>\n",
       "    </tr>\n",
       "    <tr>\n",
       "      <th>4</th>\n",
       "      <td>73d4bcfb93t2db87tමුරුන්ගා අත්තේ තැබීමටද අවශ්‍ය...</td>\n",
       "    </tr>\n",
       "    <tr>\n",
       "      <th>...</th>\n",
       "      <td>...</td>\n",
       "    </tr>\n",
       "    <tr>\n",
       "      <th>23386</th>\n",
       "      <td>c717432407t39029tඅද ගොඩක් වෙලාවට කරන්නෙtc71743...</td>\n",
       "    </tr>\n",
       "    <tr>\n",
       "      <th>23387</th>\n",
       "      <td>3c5a2faed1tc04d5tඔය එකක්වත් නෙවෙයිt3c5a2faed1c...</td>\n",
       "    </tr>\n",
       "    <tr>\n",
       "      <th>23388</th>\n",
       "      <td>62a25661a3ta624dtඑහි රසය සොයමිt62a25661a3a624d...</td>\n",
       "    </tr>\n",
       "    <tr>\n",
       "      <th>23389</th>\n",
       "      <td>4b8f57e8e2tbced5tකහදියර සහිත මුට්ටිt4b8f57e8e2...</td>\n",
       "    </tr>\n",
       "    <tr>\n",
       "      <th>23390</th>\n",
       "      <td>9aadf99078td6ab0tඑවැනි ඇගයීම් අනෙක් කලාකරුවන්ට...</td>\n",
       "    </tr>\n",
       "  </tbody>\n",
       "</table>\n",
       "<p>23391 rows × 1 columns</p>\n",
       "</div>"
      ],
      "text/plain": [
       "                         filenametxt\"sentence\"tfulltfile\n",
       "0      1f0fd51088t7ec98tඋඹලව දෙයියොම බලා ගනිත්වාt1f0f...\n",
       "1      f88a59b5deta1577t\"sarath fonseka\"tf88a59b5dea1...\n",
       "2      aa3321ef14tb9dc2tපස්ස මැදට දෙසඤ්ඤාtaa3321ef14b...\n",
       "3      7bb480d680t8af52tඔය කියන ආයතනය තියෙන්නේt7bb480...\n",
       "4      73d4bcfb93t2db87tමුරුන්ගා අත්තේ තැබීමටද අවශ්‍ය...\n",
       "...                                                  ...\n",
       "23386  c717432407t39029tඅද ගොඩක් වෙලාවට කරන්නෙtc71743...\n",
       "23387  3c5a2faed1tc04d5tඔය එකක්වත් නෙවෙයිt3c5a2faed1c...\n",
       "23388  62a25661a3ta624dtඑහි රසය සොයමිt62a25661a3a624d...\n",
       "23389  4b8f57e8e2tbced5tකහදියර සහිත මුට්ටිt4b8f57e8e2...\n",
       "23390  9aadf99078td6ab0tඑවැනි ඇගයීම් අනෙක් කලාකරුවන්ට...\n",
       "\n",
       "[23391 rows x 1 columns]"
      ]
     },
     "execution_count": 34,
     "metadata": {},
     "output_type": "execute_result"
    }
   ],
   "source": [
    "test"
   ]
  },
  {
   "cell_type": "code",
   "execution_count": 50,
   "id": "5cad45f6-6218-493c-aaaa-deaf60d779ec",
   "metadata": {},
   "outputs": [
    {
     "data": {
      "text/plain": [
       "['test.com/0',\n",
       " 'test.com/1',\n",
       " 'test.com/2',\n",
       " 'test.com/3',\n",
       " 'test.com/4',\n",
       " 'test.com/5',\n",
       " 'test.com/6',\n",
       " 'test.com/7',\n",
       " 'test.com/8',\n",
       " 'test.com/9',\n",
       " 'test.com/a',\n",
       " 'test.com/b',\n",
       " 'test.com/c',\n",
       " 'test.com/d',\n",
       " 'test.com/e',\n",
       " 'test.com/f']"
      ]
     },
     "execution_count": 50,
     "metadata": {},
     "output_type": "execute_result"
    }
   ],
   "source": [
    "import string\n",
    "url = \"test.com/\"\n",
    "\n",
    "[url+i for i in (string.digits + string.ascii_lowercase[:6])]"
   ]
  },
  {
   "cell_type": "code",
   "execution_count": 45,
   "id": "d581e08e-e37e-4de0-a7d9-0a883d41da56",
   "metadata": {},
   "outputs": [
    {
     "data": {
      "text/plain": [
       "[0, 1, 2, 3, 4, 5, 6, 7, 8, 9]"
      ]
     },
     "execution_count": 45,
     "metadata": {},
     "output_type": "execute_result"
    }
   ],
   "source": [
    "[i for i in range(10)]"
   ]
  },
  {
   "cell_type": "code",
   "execution_count": 55,
   "id": "eb7fe2f2-8f2d-4b4f-ae0a-7194123b7046",
   "metadata": {},
   "outputs": [],
   "source": [
    "files = ['/home/Keshan/.cache/huggingface/datasets/downloads/extracted/2ea3d6e410f9c1b714f21335ec13a60c8c363593563b02f6cadb456a8c59b95d', '/home/Keshan/.cache/huggingface/datasets/downloads/extracted/f58c2c8fb8a122259edbfbcf9fda2618539c8abe5dac5badfe259a84208d5f77', '/home/Keshan/.cache/huggingface/datasets/downloads/extracted/5cd3f994964cc37de7cb16349dc4897fd96252bf5102c010391cd97b41c8be14', '/home/Keshan/.cache/huggingface/datasets/downloads/extracted/901fc690557b79c3664848a34738cc695fee902bc12c10bc4c62dd658e5bee74', '/home/Keshan/.cache/huggingface/datasets/downloads/extracted/afdb72f61e7f85477419268a6c68e1b6628c12474f44210a2fd0401349dee635', '/home/Keshan/.cache/huggingface/datasets/downloads/extracted/7b54f5f82b5575c0edda9d66d61f494c5ba46842f9cbea840e5833e51bbe1a2d', '/home/Keshan/.cache/huggingface/datasets/downloads/extracted/6c0659a8e44096fa8777aacc0a113fa65ac45b0fc851bff06e8b7cc2bbc40b3a', '/home/Keshan/.cache/huggingface/datasets/downloads/extracted/65b3936aa3edeaa3bc5ae1bfecd9ae075850090f1e632ff6be44c5811b95bfe1', '/home/Keshan/.cache/huggingface/datasets/downloads/extracted/290e4c439d9ebdf596127f40547bc19f17c122bc608c515b5ca4124d264c53c2', '/home/Keshan/.cache/huggingface/datasets/downloads/extracted/444fd9309ed16ca02a472841f918dc45820bc603d7149b726dd4462d8631f44c', '/home/Keshan/.cache/huggingface/datasets/downloads/extracted/474e7df617e35671e4594762a416becc689fa40728897e7f2c6e8f209945e220', '/home/Keshan/.cache/huggingface/datasets/downloads/extracted/4b66081be4aeaad4cb4fe7658c56c33352d5ce773e7eef9f2f960a0e729175e5', '/home/Keshan/.cache/huggingface/datasets/downloads/extracted/604818aca2afd8cc35f7eece43eab67d68befc84a0b330b6d97a9281ece91183', '/home/Keshan/.cache/huggingface/datasets/downloads/extracted/845963e334de6aeb929277a1484b5dd282cd2d25a7f1ac86eecef8c96c76778e', '/home/Keshan/.cache/huggingface/datasets/downloads/extracted/d2bb7584bd84ad0be1970891bb19825339e622d497ce242d84c8d732d8a008cf', '/home/Keshan/.cache/huggingface/datasets/downloads/extracted/707363c4ed3fc1ff72fdad71c2ea62712b6192cf49ce458040c202b2ad505d35']"
   ]
  },
  {
   "cell_type": "code",
   "execution_count": 60,
   "id": "c517687e-3369-4849-8b38-cae17b412e55",
   "metadata": {},
   "outputs": [
    {
     "data": {
      "text/plain": [
       "'/home/Keshan/.cache/huggingface/datasets/downloads/extracted'"
      ]
     },
     "execution_count": 60,
     "metadata": {},
     "output_type": "execute_result"
    }
   ],
   "source": [
    "import os \n",
    "import shutil\n",
    "\n",
    "dirname = os.path.dirname\n",
    "\n",
    "dirname(files[0])"
   ]
  },
  {
   "cell_type": "code",
   "execution_count": null,
   "id": "4a3d1def-7bb8-4712-bd27-802c39121df5",
   "metadata": {},
   "outputs": [],
   "source": []
  }
 ],
 "metadata": {
  "kernelspec": {
   "display_name": "Python 3 (ipykernel)",
   "language": "python",
   "name": "python3"
  },
  "language_info": {
   "codemirror_mode": {
    "name": "ipython",
    "version": 3
   },
   "file_extension": ".py",
   "mimetype": "text/x-python",
   "name": "python",
   "nbconvert_exporter": "python",
   "pygments_lexer": "ipython3",
   "version": "3.8.10"
  }
 },
 "nbformat": 4,
 "nbformat_minor": 5
}
