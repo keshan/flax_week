{
 "cells": [
  {
   "cell_type": "code",
   "execution_count": 1,
   "id": "47a360ac-32e9-45c2-b3b6-baecefa6dd77",
   "metadata": {},
   "outputs": [],
   "source": [
    "from tokenizers import Tokenizer"
   ]
  },
  {
   "cell_type": "code",
   "execution_count": 3,
   "id": "a175a429-1cdb-4210-a46b-570f9164d4f5",
   "metadata": {},
   "outputs": [],
   "source": [
    "tokenizer = Tokenizer.from_file('../sinhala-gpt2/tokenizer.json')"
   ]
  },
  {
   "cell_type": "code",
   "execution_count": 5,
   "id": "bb2fad71-7939-4dc6-97bb-c3b2936a7771",
   "metadata": {},
   "outputs": [],
   "source": [
    "enc = tokenizer.encode('ආයුබෝවන්! මේක සිරා')"
   ]
  },
  {
   "cell_type": "code",
   "execution_count": 6,
   "id": "477507cc-163e-4a39-b9d5-124196d5dd31",
   "metadata": {},
   "outputs": [
    {
     "data": {
      "text/plain": [
       "Encoding(num_tokens=13, attributes=[ids, type_ids, tokens, offsets, attention_mask, special_tokens_mask, overflowing])"
      ]
     },
     "execution_count": 6,
     "metadata": {},
     "output_type": "execute_result"
    }
   ],
   "source": [
    "enc"
   ]
  },
  {
   "cell_type": "code",
   "execution_count": 7,
   "id": "f8addecb-1e8c-4d3d-ba22-31741de51f9a",
   "metadata": {},
   "outputs": [
    {
     "data": {
      "text/plain": [
       "['à¶Ĩà¶º',\n",
       " 'à·Ķ',\n",
       " 'à¶¶',\n",
       " 'à·Ŀ',\n",
       " 'à·Ģà¶±',\n",
       " 'à·Ĭ!',\n",
       " 'Ġà¶¸',\n",
       " 'à·ļ',\n",
       " 'à¶ļ',\n",
       " 'Ġà·ĥ',\n",
       " 'à·Ĵ',\n",
       " 'à¶»',\n",
       " 'à·ı']"
      ]
     },
     "execution_count": 7,
     "metadata": {},
     "output_type": "execute_result"
    }
   ],
   "source": [
    "enc.tokens"
   ]
  },
  {
   "cell_type": "code",
   "execution_count": 8,
   "id": "df026494-4835-423f-854b-27d59af5a1ed",
   "metadata": {},
   "outputs": [
    {
     "data": {
      "text/plain": [
       "[2397, 272, 302, 308, 329, 1646, 287, 277, 275, 286, 265, 270, 268]"
      ]
     },
     "execution_count": 8,
     "metadata": {},
     "output_type": "execute_result"
    }
   ],
   "source": [
    "enc.ids"
   ]
  },
  {
   "cell_type": "code",
   "execution_count": 11,
   "id": "7aff7289-c8fe-40ec-8b6f-ce943737bc4b",
   "metadata": {},
   "outputs": [],
   "source": [
    "dec = tokenizer.decode(enc.ids)"
   ]
  },
  {
   "cell_type": "code",
   "execution_count": 12,
   "id": "f328473e-5320-402e-9178-d75eea796869",
   "metadata": {},
   "outputs": [
    {
     "data": {
      "text/plain": [
       "'ආයුබෝවන්! මේක සිරා'"
      ]
     },
     "execution_count": 12,
     "metadata": {},
     "output_type": "execute_result"
    }
   ],
   "source": [
    "dec"
   ]
  },
  {
   "cell_type": "code",
   "execution_count": 8,
   "id": "4095d971-7f05-49ed-8036-4eae189a1e46",
   "metadata": {},
   "outputs": [],
   "source": [
    "with open('vocabulary.txt', 'w') as f:\n",
    "    for token in tokenizer.get_vocab().keys():\n",
    "        f.write(token + '\\n')"
   ]
  },
  {
   "cell_type": "code",
   "execution_count": null,
   "id": "48a5ad8f-09b7-40de-8f5e-b5d2ad8e9e53",
   "metadata": {},
   "outputs": [],
   "source": []
  }
 ],
 "metadata": {
  "kernelspec": {
   "display_name": "Python 3 (ipykernel)",
   "language": "python",
   "name": "python3"
  },
  "language_info": {
   "codemirror_mode": {
    "name": "ipython",
    "version": 3
   },
   "file_extension": ".py",
   "mimetype": "text/x-python",
   "name": "python",
   "nbconvert_exporter": "python",
   "pygments_lexer": "ipython3",
   "version": "3.8.10"
  }
 },
 "nbformat": 4,
 "nbformat_minor": 5
}
