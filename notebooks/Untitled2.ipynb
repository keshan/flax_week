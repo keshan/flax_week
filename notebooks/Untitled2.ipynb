{
 "cells": [
  {
   "cell_type": "code",
   "execution_count": 8,
   "id": "e28f965b-e4b9-4a0c-b9ca-eff9ccf0bb02",
   "metadata": {},
   "outputs": [
    {
     "data": {
      "application/vnd.jupyter.widget-view+json": {
       "model_id": "55e12c6522a343068a9f77ad6f4e113e",
       "version_major": 2,
       "version_minor": 0
      },
      "text/plain": [
       "  0%|          | 0/132574 [00:00<?, ?ex/s]"
      ]
     },
     "metadata": {},
     "output_type": "display_data"
    },
    {
     "data": {
      "application/vnd.jupyter.widget-view+json": {
       "model_id": "2b95f3697c80435fb6a47de6c0f8cfa8",
       "version_major": 2,
       "version_minor": 0
      },
      "text/plain": [
       "  0%|          | 0/23396 [00:00<?, ?ex/s]"
      ]
     },
     "metadata": {},
     "output_type": "display_data"
    }
   ],
   "source": [
    "from datasets import Dataset\n",
    "import pandas as pd\n",
    "import re\n",
    "\n",
    "import torchaudio\n",
    "import librosa\n",
    "import numpy as np\n",
    "import torch\n",
    "\n",
    "from dataclasses import dataclass, field\n",
    "from typing import Any, Dict, List, Optional, Union\n",
    "\n",
    "train_df = pd.read_csv('train.csv')\n",
    "test_df = pd.read_csv('test.csv')\n",
    "\n",
    "train_data = Dataset.from_pandas(train_df)\n",
    "test_data = Dataset.from_pandas(test_df)\n",
    "\n",
    "train_data = train_data.remove_columns([\"full\", \"x\", \"filename\"])\n",
    "test_data = test_data.remove_columns([\"full\", \"x\", \"filename\"])\n",
    "\n",
    "chars_to_ignore_regex = '[\\,\\?\\.\\!\\-\\;\\:\\\"\\“\\%\\‘\\”\\�]'\n",
    "\n",
    "def remove_special_characters(batch):\n",
    "    batch[\"sentence\"] = re.sub(chars_to_ignore_regex, '', batch[\"sentence\"]).lower() + \" \"\n",
    "    return batch\n",
    "\n",
    "train_data = train_data.map(remove_special_characters)\n",
    "test_data = test_data.map(remove_special_characters)\n"
   ]
  },
  {
   "cell_type": "code",
   "execution_count": 9,
   "id": "0159b4e2-3586-44d2-8259-59c7c1d8acef",
   "metadata": {},
   "outputs": [
    {
     "name": "stderr",
     "output_type": "stream",
     "text": [
      "tcmalloc: large alloc 1392181248 bytes == 0x2a2914000 @  0x7fe58d618680 0x7fe58d638da2 0x5f24fc 0x64d250 0x5268e9 0x5c3a40 0x56aadf 0x568d9a 0x50b868 0x56bc9b 0x50b6fe 0x56fb87 0x5f5956 0x56aadf 0x568d9a 0x50b868 0x56aadf 0x5f5956 0x56aadf 0x568d9a 0x50b868 0x56aadf 0x568d9a 0x5f5b33 0x50b7f8 0x5f2702 0x56c332 0x568d9a 0x50b868 0x56aadf 0x5f5956\n",
      "tcmalloc: large alloc 1408000000 bytes == 0x2a4e68000 @  0x7fe58d618680 0x7fe58d638da2 0x5f24fc 0x64d250 0x5268e9 0x5c3a40 0x56aadf 0x568d9a 0x50b868 0x56bc9b 0x50b6fe 0x56fb87 0x5f5956 0x56aadf 0x568d9a 0x50b868 0x56aadf 0x5f5956 0x56aadf 0x568d9a 0x50b868 0x56aadf 0x568d9a 0x5f5b33 0x50b7f8 0x5f2702 0x56c332 0x568d9a 0x50b868 0x56aadf 0x5f5956\n",
      "tcmalloc: large alloc 1393410048 bytes == 0x2a2b6e000 @  0x7fe58d618680 0x7fe58d638da2 0x5f24fc 0x64d250 0x5268e9 0x5c3a40 0x56aadf 0x568d9a 0x50b868 0x56bc9b 0x50b6fe 0x56fb87 0x5f5956 0x56aadf 0x568d9a 0x50b868 0x56aadf 0x5f5956 0x56aadf 0x568d9a 0x50b868 0x56aadf 0x568d9a 0x5f5b33 0x50b7f8 0x5f2702 0x56c332 0x568d9a 0x50b868 0x56aadf 0x5f5956\n",
      "tcmalloc: large alloc 1400774656 bytes == 0x2a3e8a000 @  0x7fe58d618680 0x7fe58d638da2 0x5f24fc 0x64d250 0x5268e9 0x5c3a40 0x56aadf 0x568d9a 0x50b868 0x56bc9b 0x50b6fe 0x56fb87 0x5f5956 0x56aadf 0x568d9a 0x50b868 0x56aadf 0x5f5956 0x56aadf 0x568d9a 0x50b868 0x56aadf 0x568d9a 0x5f5b33 0x50b7f8 0x5f2702 0x56c332 0x568d9a 0x50b868 0x56aadf 0x5f5956\n",
      "tcmalloc: large alloc 1391411200 bytes == 0x2a2bc2000 @  0x7fe58d618680 0x7fe58d638da2 0x5f24fc 0x64d250 0x5268e9 0x5c3a40 0x56aadf 0x568d9a 0x50b868 0x56bc9b 0x50b6fe 0x56fb87 0x5f5956 0x56aadf 0x568d9a 0x50b868 0x56aadf 0x5f5956 0x56aadf 0x568d9a 0x50b868 0x56aadf 0x568d9a 0x5f5b33 0x50b7f8 0x5f2702 0x56c332 0x568d9a 0x50b868 0x56aadf 0x5f5956\n",
      "tcmalloc: large alloc 1740226560 bytes == 0x2370ee000 @  0x7fe58d618680 0x7fe58d638da2 0x5f24fc 0x64d250 0x5268e9 0x5c3a40 0x56aadf 0x50b6fe 0x56fb87 0x5f5956 0x56aadf 0x568d9a 0x50b868 0x56aadf 0x5f5956 0x56aadf 0x568d9a 0x50b868 0x56aadf 0x568d9a 0x5f5b33 0x50b7f8 0x5f2702 0x56c332 0x568d9a 0x50b868 0x56aadf 0x5f5956 0x56acb6 0x5f5956 0x56aadf\n",
      "tcmalloc: large alloc 1760002048 bytes == 0x237d00000 @  0x7fe58d618680 0x7fe58d638da2 0x5f24fc 0x64d250 0x5268e9 0x5c3a40 0x56aadf 0x50b6fe 0x56fb87 0x5f5956 0x56aadf 0x568d9a 0x50b868 0x56aadf 0x5f5956 0x56aadf 0x568d9a 0x50b868 0x56aadf 0x568d9a 0x5f5b33 0x50b7f8 0x5f2702 0x56c332 0x568d9a 0x50b868 0x56aadf 0x5f5956 0x56acb6 0x5f5956 0x56aadf\n",
      "tcmalloc: large alloc 1741766656 bytes == 0x2371de000 @  0x7fe58d618680 0x7fe58d638da2 0x5f24fc 0x64d250 0x5268e9 0x5c3a40 0x56aadf 0x50b6fe 0x56fb87 0x5f5956 0x56aadf 0x568d9a 0x50b868 0x56aadf 0x5f5956 0x56aadf 0x568d9a 0x50b868 0x56aadf 0x568d9a 0x5f5b33 0x50b7f8 0x5f2702 0x56c332 0x568d9a 0x50b868 0x56aadf 0x5f5956 0x56acb6 0x5f5956 0x56aadf\n",
      "tcmalloc: large alloc 1750974464 bytes == 0x23777c000 @  0x7fe58d618680 0x7fe58d638da2 0x5f24fc 0x64d250 0x5268e9 0x5c3a40 0x56aadf 0x50b6fe 0x56fb87 0x5f5956 0x56aadf 0x568d9a 0x50b868 0x56aadf 0x5f5956 0x56aadf 0x568d9a 0x50b868 0x56aadf 0x568d9a 0x5f5b33 0x50b7f8 0x5f2702 0x56c332 0x568d9a 0x50b868 0x56aadf 0x5f5956 0x56acb6 0x5f5956 0x56aadf\n",
      "tcmalloc: large alloc 2175287296 bytes == 0x29ec8a000 @  0x7fe58d618680 0x7fe58d638da2 0x5f24fc 0x64d250 0x5268e9 0x5c3a40 0x56aadf 0x568d9a 0x50b868 0x56bc9b 0x50b6fe 0x56fb87 0x5f5956 0x56aadf 0x568d9a 0x50b868 0x56aadf 0x5f5956 0x56aadf 0x568d9a 0x50b868 0x56aadf 0x568d9a 0x5f5b33 0x50b7f8 0x5f2702 0x56c332 0x568d9a 0x50b868 0x56aadf 0x5f5956\n",
      "tcmalloc: large alloc 1396817920 bytes == 0x2a394c000 @  0x7fe58d618680 0x7fe58d638da2 0x5f24fc 0x64d250 0x5268e9 0x5c3a40 0x56aadf 0x568d9a 0x50b868 0x56bc9b 0x50b6fe 0x56fb87 0x5f5956 0x56aadf 0x568d9a 0x50b868 0x56aadf 0x5f5956 0x56aadf 0x568d9a 0x50b868 0x56aadf 0x568d9a 0x5f5b33 0x50b7f8 0x5f2702 0x56c332 0x568d9a 0x50b868 0x56aadf 0x5f5956\n",
      "tcmalloc: large alloc 1739268096 bytes == 0x237058000 @  0x7fe58d618680 0x7fe58d638da2 0x5f24fc 0x64d250 0x5268e9 0x5c3a40 0x56aadf 0x50b6fe 0x56fb87 0x5f5956 0x56aadf 0x568d9a 0x50b868 0x56aadf 0x5f5956 0x56aadf 0x568d9a 0x50b868 0x56aadf 0x568d9a 0x5f5b33 0x50b7f8 0x5f2702 0x56c332 0x568d9a 0x50b868 0x56aadf 0x5f5956 0x56acb6 0x5f5956 0x56aadf\n",
      "tcmalloc: large alloc 2200002560 bytes == 0x2a0b78000 @  0x7fe58d618680 0x7fe58d638da2 0x5f24fc 0x64d250 0x5268e9 0x5c3a40 0x56aadf 0x568d9a 0x50b868 0x56bc9b 0x50b6fe 0x56fb87 0x5f5956 0x56aadf 0x568d9a 0x50b868 0x56aadf 0x5f5956 0x56aadf 0x568d9a 0x50b868 0x56aadf 0x568d9a 0x5f5b33 0x50b7f8 0x5f2702 0x56c332 0x568d9a 0x50b868 0x56aadf 0x5f5956\n",
      "tcmalloc: large alloc 2177212416 bytes == 0x29eef2000 @  0x7fe58d618680 0x7fe58d638da2 0x5f24fc 0x64d250 0x5268e9 0x5c3a40 0x56aadf 0x568d9a 0x50b868 0x56bc9b 0x50b6fe 0x56fb87 0x5f5956 0x56aadf 0x568d9a 0x50b868 0x56aadf 0x5f5956 0x56aadf 0x568d9a 0x50b868 0x56aadf 0x568d9a 0x5f5b33 0x50b7f8 0x5f2702 0x56c332 0x568d9a 0x50b868 0x56aadf 0x5f5956\n",
      "tcmalloc: large alloc 2188722176 bytes == 0x29fd58000 @  0x7fe58d618680 0x7fe58d638da2 0x5f24fc 0x64d250 0x5268e9 0x5c3a40 0x56aadf 0x568d9a 0x50b868 0x56bc9b 0x50b6fe 0x56fb87 0x5f5956 0x56aadf 0x568d9a 0x50b868 0x56aadf 0x5f5956 0x56aadf 0x568d9a 0x50b868 0x56aadf 0x568d9a 0x5f5b33 0x50b7f8 0x5f2702 0x56c332 0x568d9a 0x50b868 0x56aadf 0x5f5956\n",
      "tcmalloc: large alloc 2174091264 bytes == 0x29eb0a000 @  0x7fe58d618680 0x7fe58d638da2 0x5f24fc 0x64d250 0x5268e9 0x5c3a40 0x56aadf 0x568d9a 0x50b868 0x56bc9b 0x50b6fe 0x56fb87 0x5f5956 0x56aadf 0x568d9a 0x50b868 0x56aadf 0x5f5956 0x56aadf 0x568d9a 0x50b868 0x56aadf 0x568d9a 0x5f5b33 0x50b7f8 0x5f2702 0x56c332 0x568d9a 0x50b868 0x56aadf 0x5f5956\n",
      "tcmalloc: large alloc 1635680256 bytes == 0x1f4ac8000 @  0x7fe58d618680 0x7fe58d639824 0x5f7b11 0x63c57d 0x5c3cb0 0x56aadf 0x568d9a 0x5f5b33 0x56acb6 0x568d9a 0x5f5b33 0x56acb6 0x50b6fe 0x56aadf 0x5f5956 0x5f2702 0x56c332 0x5f5956 0x56acb6 0x5f5956 0x56acb6 0x5f5956 0x50b7f8 0x5f2702 0x65578c 0x675d48 0x7fe58d3ee609 0x7fe58d52a293\n",
      "tcmalloc: large alloc 1372692480 bytes == 0x2a0110000 @  0x7fe58d618680 0x7fe58d638da2 0x5f24fc 0x64d250 0x5268e9 0x5c3a40 0x56aadf 0x568d9a 0x50b868 0x56bc9b 0x50b6fe 0x56fb87 0x5f5956 0x56aadf 0x568d9a 0x50b868 0x56aadf 0x5f5956 0x56aadf 0x568d9a 0x50b868 0x56aadf 0x568d9a 0x5f5b33 0x50b7f8 0x5f2702 0x56c332 0x568d9a 0x50b868 0x56aadf 0x5f5956\n",
      "tcmalloc: large alloc 1746026496 bytes == 0x237478000 @  0x7fe58d618680 0x7fe58d638da2 0x5f24fc 0x64d250 0x5268e9 0x5c3a40 0x56aadf 0x50b6fe 0x56fb87 0x5f5956 0x56aadf 0x568d9a 0x50b868 0x56aadf 0x5f5956 0x56aadf 0x568d9a 0x50b868 0x56aadf 0x568d9a 0x5f5b33 0x50b7f8 0x5f2702 0x56c332 0x568d9a 0x50b868 0x56aadf 0x5f5956 0x56acb6 0x5f5956 0x56aadf\n",
      "tcmalloc: large alloc 2182537216 bytes == 0x29f59c000 @  0x7fe58d618680 0x7fe58d638da2 0x5f24fc 0x64d250 0x5268e9 0x5c3a40 0x56aadf 0x568d9a 0x50b868 0x56bc9b 0x50b6fe 0x56fb87 0x5f5956 0x56aadf 0x568d9a 0x50b868 0x56aadf 0x5f5956 0x56aadf 0x568d9a 0x50b868 0x56aadf 0x568d9a 0x5f5b33 0x50b7f8 0x5f2702 0x56c332 0x568d9a 0x50b868 0x56aadf 0x5f5956\n",
      "tcmalloc: large alloc 1715871744 bytes == 0x236210000 @  0x7fe58d618680 0x7fe58d638da2 0x5f24fc 0x64d250 0x5268e9 0x5c3a40 0x56aadf 0x50b6fe 0x56fb87 0x5f5956 0x56aadf 0x568d9a 0x50b868 0x56aadf 0x5f5956 0x56aadf 0x568d9a 0x50b868 0x56aadf 0x568d9a 0x5f5b33 0x50b7f8 0x5f2702 0x56c332 0x568d9a 0x50b868 0x56aadf 0x5f5956 0x56acb6 0x5f5956 0x56aadf\n",
      "tcmalloc: large alloc 1382948864 bytes == 0x2a1bee000 @  0x7fe58d618680 0x7fe58d638da2 0x5f24fc 0x64d250 0x5268e9 0x5c3a40 0x56aadf 0x568d9a 0x50b868 0x56bc9b 0x50b6fe 0x56fb87 0x5f5956 0x56aadf 0x568d9a 0x50b868 0x56aadf 0x5f5956 0x56aadf 0x568d9a 0x50b868 0x56aadf 0x568d9a 0x5f5b33 0x50b7f8 0x5f2702 0x56c332 0x568d9a 0x50b868 0x56aadf 0x5f5956\n",
      "tcmalloc: large alloc 2144845824 bytes == 0x29c672000 @  0x7fe58d618680 0x7fe58d638da2 0x5f24fc 0x64d250 0x5268e9 0x5c3a40 0x56aadf 0x568d9a 0x50b868 0x56bc9b 0x50b6fe 0x56fb87 0x5f5956 0x56aadf 0x568d9a 0x50b868 0x56aadf 0x5f5956 0x56aadf 0x568d9a 0x50b868 0x56aadf 0x568d9a 0x5f5b33 0x50b7f8 0x5f2702 0x56c332 0x568d9a 0x50b868 0x56aadf 0x5f5956\n",
      "tcmalloc: large alloc 1635680256 bytes == 0x2562b0000 @  0x7fe58d618680 0x7fe58d639824 0x5f7b11 0x64bc94 0x64d240 0x5268e9 0x504d56 0x56acb6 0x568d9a 0x5f5b33 0x56acb6 0x568d9a 0x5f5b33 0x56acb6 0x50b6fe 0x56aadf 0x5f5956 0x5f2702 0x56c332 0x5f5956 0x56acb6 0x5f5956 0x56acb6 0x5f5956 0x50b7f8 0x5f2702 0x65578c 0x675d48 0x7fe58d3ee609 0x7fe58d52a293\n",
      "tcmalloc: large alloc 1728692224 bytes == 0x2369e4000 @  0x7fe58d618680 0x7fe58d638da2 0x5f24fc 0x64d250 0x5268e9 0x5c3a40 0x56aadf 0x50b6fe 0x56fb87 0x5f5956 0x56aadf 0x568d9a 0x50b868 0x56aadf 0x5f5956 0x56aadf 0x568d9a 0x50b868 0x56aadf 0x568d9a 0x5f5b33 0x50b7f8 0x5f2702 0x56c332 0x568d9a 0x50b868 0x56aadf 0x5f5956 0x56acb6 0x5f5956 0x56aadf\n",
      "tcmalloc: large alloc 2160869376 bytes == 0x29da80000 @  0x7fe58d618680 0x7fe58d638da2 0x5f24fc 0x64d250 0x5268e9 0x5c3a40 0x56aadf 0x568d9a 0x50b868 0x56bc9b 0x50b6fe 0x56fb87 0x5f5956 0x56aadf 0x568d9a 0x50b868 0x56aadf 0x5f5956 0x56aadf 0x568d9a 0x50b868 0x56aadf 0x568d9a 0x5f5b33 0x50b7f8 0x5f2702 0x56c332 0x568d9a 0x50b868 0x56aadf 0x5f5956\n",
      "tcmalloc: large alloc 1635680256 bytes == 0x1f4ac8000 @  0x7fe58d618680 0x7fe58d639824 0x5f7b11 0x64bc94 0x64d240 0x5268e9 0x64d32d 0x5a6f17 0x5f3010 0x56fd36 0x568d9a 0x5f5b33 0x56fb87 0x50b6fe 0x56aadf 0x5f5956 0x5f2702 0x56c332 0x5f5956 0x56acb6 0x5f5956 0x56acb6 0x5f5956 0x50b7f8 0x5f2702 0x65578c 0x675d48 0x7fe58d3ee609 0x7fe58d52a293\n"
     ]
    }
   ],
   "source": [
    "def speech_file_to_array_fn(batch):\n",
    "    speech_array, sampling_rate = torchaudio.load(batch[\"file\"])\n",
    "    batch[\"speech\"] = speech_array[0].numpy()\n",
    "    batch[\"sampling_rate\"] = sampling_rate\n",
    "    batch[\"target_text\"] = batch[\"sentence\"]\n",
    "    return batch\n",
    "\n",
    "train_data = train_data.map(speech_file_to_array_fn, remove_columns=train_data.column_names, num_proc=64)\n",
    "test_data = test_data.map(speech_file_to_array_fn, remove_columns=test_data.column_names, num_proc=64)\n"
   ]
  },
  {
   "cell_type": "code",
   "execution_count": 10,
   "id": "d0224892-e09e-49fe-b1bd-fe06800a7a70",
   "metadata": {},
   "outputs": [
    {
     "name": "stderr",
     "output_type": "stream",
     "text": [
      "tcmalloc: large alloc 1796087808 bytes == 0x5f5e7c000 @  0x7fe58d618680 0x7fe58d638da2 0x5f24fc 0x64d250 0x5268e9 0x5c3a40 0x56aadf 0x50b6fe 0x56fb87 0x5f5956 0x56aadf 0x568d9a 0x50b868 0x56aadf 0x5f5956 0x56aadf 0x568d9a 0x50b868 0x56aadf 0x568d9a 0x5f5b33 0x50b7f8 0x5f2702 0x56c332 0x568d9a 0x50b868 0x56aadf 0x5f5956 0x56acb6 0x5f5956 0x56aadf\n",
      "tcmalloc: large alloc 2245115904 bytes == 0x660f5e000 @  0x7fe58d618680 0x7fe58d638da2 0x5f24fc 0x64d250 0x5268e9 0x5c3a40 0x56aadf 0x50b6fe 0x56fb87 0x5f5956 0x56aadf 0x568d9a 0x50b868 0x56aadf 0x5f5956 0x56aadf 0x568d9a 0x50b868 0x56aadf 0x568d9a 0x5f5b33 0x50b7f8 0x5f2702 0x56c332 0x568d9a 0x50b868 0x56aadf 0x5f5956 0x56acb6 0x5f5956 0x56aadf\n",
      "tcmalloc: large alloc 2806398976 bytes == 0x5a042e000 @  0x7fe58d618680 0x7fe58d638da2 0x5f24fc 0x64d250 0x5268e9 0x5c3a40 0x56aadf 0x50b6fe 0x56fb87 0x5f5956 0x56aadf 0x568d9a 0x50b868 0x56aadf 0x5f5956 0x56aadf 0x568d9a 0x50b868 0x56aadf 0x568d9a 0x5f5b33 0x50b7f8 0x5f2702 0x56c332 0x568d9a 0x50b868 0x56aadf 0x5f5956 0x56acb6 0x5f5956 0x56aadf\n",
      "tcmalloc: large alloc 3508002816 bytes == 0x71e178000 @  0x7fe58d618680 0x7fe58d638da2 0x5f24fc 0x64d250 0x5268e9 0x5c3a40 0x56aadf 0x50b6fe 0x56fb87 0x5f5956 0x56aadf 0x568d9a 0x50b868 0x56aadf 0x5f5956 0x56aadf 0x568d9a 0x50b868 0x56aadf 0x568d9a 0x5f5b33 0x50b7f8 0x5f2702 0x56c332 0x568d9a 0x50b868 0x56aadf 0x5f5956 0x56acb6 0x5f5956 0x56aadf\n",
      "tcmalloc: large alloc 3081150464 bytes == 0x5a042e000 @  0x7fe58d618680 0x7fe58d639824 0x5f7b11 0x63c57d 0x5c3cb0 0x56aadf 0x568d9a 0x5f5b33 0x56acb6 0x568d9a 0x5f5b33 0x56acb6 0x50b6fe 0x56aadf 0x5f5956 0x5f2702 0x56c332 0x5f5956 0x56acb6 0x5f5956 0x56acb6 0x5f5956 0x50b7f8 0x5f2702 0x65578c 0x675d48 0x7fe58d3ee609 0x7fe58d52a293\n",
      "tcmalloc: large alloc 2147483648 bytes == 0x657e98000 @  0x7fe58d618680 0x7fe58d639824 0x5f7b11 0x64bc94 0x64d240 0x5268e9 0x504d56 0x56acb6 0x568d9a 0x5f5b33 0x56acb6 0x568d9a 0x5f5b33 0x56acb6 0x50b6fe 0x56aadf 0x5f5956 0x5f2702 0x56c332 0x5f5956 0x56acb6 0x5f5956 0x56acb6 0x5f5956 0x50b7f8 0x5f2702 0x65578c 0x675d48 0x7fe58d3ee609 0x7fe58d52a293\n",
      "tcmalloc: large alloc 3081150464 bytes == 0x5a042e000 @  0x7fe58d618680 0x7fe58d638bdd 0x5f24fc 0x64d250 0x5268e9 0x504d56 0x56acb6 0x568d9a 0x5f5b33 0x56acb6 0x568d9a 0x5f5b33 0x56acb6 0x50b6fe 0x56aadf 0x5f5956 0x5f2702 0x56c332 0x5f5956 0x56acb6 0x5f5956 0x56acb6 0x5f5956 0x50b7f8 0x5f2702 0x65578c 0x675d48 0x7fe58d3ee609 0x7fe58d52a293\n",
      "tcmalloc: large alloc 3081150464 bytes == 0x657e98000 @  0x7fe58d618680 0x7fe58d639824 0x5f7b11 0x64bc94 0x64d240 0x5268e9 0x64d32d 0x5a6f17 0x5f3010 0x56fd36 0x568d9a 0x5f5b33 0x56fb87 0x50b6fe 0x56aadf 0x5f5956 0x5f2702 0x56c332 0x5f5956 0x56acb6 0x5f5956 0x56acb6 0x5f5956 0x50b7f8 0x5f2702 0x65578c 0x675d48 0x7fe58d3ee609 0x7fe58d52a293\n",
      "tcmalloc: large alloc 1793409024 bytes == 0x5f5c70000 @  0x7fe58d618680 0x7fe58d638da2 0x5f24fc 0x64d250 0x5268e9 0x5c3a40 0x56aadf 0x50b6fe 0x56fb87 0x5f5956 0x56aadf 0x568d9a 0x50b868 0x56aadf 0x5f5956 0x56aadf 0x568d9a 0x50b868 0x56aadf 0x568d9a 0x5f5b33 0x50b7f8 0x5f2702 0x56c332 0x568d9a 0x50b868 0x56aadf 0x5f5956 0x56acb6 0x5f5956 0x56aadf\n",
      "tcmalloc: large alloc 2241765376 bytes == 0x660ac4000 @  0x7fe58d618680 0x7fe58d638da2 0x5f24fc 0x64d250 0x5268e9 0x5c3a40 0x56aadf 0x50b6fe 0x56fb87 0x5f5956 0x56aadf 0x568d9a 0x50b868 0x56aadf 0x5f5956 0x56aadf 0x568d9a 0x50b868 0x56aadf 0x568d9a 0x5f5b33 0x50b7f8 0x5f2702 0x56c332 0x568d9a 0x50b868 0x56aadf 0x5f5956 0x56acb6 0x5f5956 0x56aadf\n",
      "tcmalloc: large alloc 2802212864 bytes == 0x5a042e000 @  0x7fe58d618680 0x7fe58d638da2 0x5f24fc 0x64d250 0x5268e9 0x5c3a40 0x56aadf 0x50b6fe 0x56fb87 0x5f5956 0x56aadf 0x568d9a 0x50b868 0x56aadf 0x5f5956 0x56aadf 0x568d9a 0x50b868 0x56aadf 0x568d9a 0x5f5b33 0x50b7f8 0x5f2702 0x56c332 0x568d9a 0x50b868 0x56aadf 0x5f5956 0x56acb6 0x5f5956 0x56aadf\n",
      "tcmalloc: large alloc 3502768128 bytes == 0x647494000 @  0x7fe58d618680 0x7fe58d638da2 0x5f24fc 0x64d250 0x5268e9 0x5c3a40 0x56aadf 0x50b6fe 0x56fb87 0x5f5956 0x56aadf 0x568d9a 0x50b868 0x56aadf 0x5f5956 0x56aadf 0x568d9a 0x50b868 0x56aadf 0x568d9a 0x5f5b33 0x50b7f8 0x5f2702 0x56c332 0x568d9a 0x50b868 0x56aadf 0x5f5956 0x56acb6 0x5f5956 0x56aadf\n",
      "tcmalloc: large alloc 3094487040 bytes == 0x5a042e000 @  0x7fe58d618680 0x7fe58d639824 0x5f7b11 0x63c57d 0x5c3cb0 0x56aadf 0x568d9a 0x5f5b33 0x56acb6 0x568d9a 0x5f5b33 0x56acb6 0x50b6fe 0x56aadf 0x5f5956 0x5f2702 0x56c332 0x5f5956 0x56acb6 0x5f5956 0x56acb6 0x5f5956 0x50b7f8 0x5f2702 0x65578c 0x675d48 0x7fe58d3ee609 0x7fe58d52a293\n"
     ]
    },
    {
     "ename": "KeyboardInterrupt",
     "evalue": "",
     "output_type": "error",
     "traceback": [
      "\u001b[0;31m---------------------------------------------------------------------------\u001b[0m",
      "\u001b[0;31mKeyboardInterrupt\u001b[0m                         Traceback (most recent call last)",
      "\u001b[0;32m~/datasets/src/datasets/arrow_dataset.py\u001b[0m in \u001b[0;36mmap\u001b[0;34m(self, function, with_indices, input_columns, batched, batch_size, drop_last_batch, remove_columns, keep_in_memory, load_from_cache_file, cache_file_name, writer_batch_size, features, disable_nullable, fn_kwargs, num_proc, suffix_template, new_fingerprint, desc)\u001b[0m\n\u001b[1;32m   1736\u001b[0m                 \u001b[0mresults\u001b[0m \u001b[0;34m=\u001b[0m \u001b[0;34m[\u001b[0m\u001b[0mpool\u001b[0m\u001b[0;34m.\u001b[0m\u001b[0mapply_async\u001b[0m\u001b[0;34m(\u001b[0m\u001b[0mself\u001b[0m\u001b[0;34m.\u001b[0m\u001b[0m__class__\u001b[0m\u001b[0;34m.\u001b[0m\u001b[0m_map_single\u001b[0m\u001b[0;34m,\u001b[0m \u001b[0mkwds\u001b[0m\u001b[0;34m=\u001b[0m\u001b[0mkwds\u001b[0m\u001b[0;34m)\u001b[0m \u001b[0;32mfor\u001b[0m \u001b[0mkwds\u001b[0m \u001b[0;32min\u001b[0m \u001b[0mkwds_per_shard\u001b[0m\u001b[0;34m]\u001b[0m\u001b[0;34m\u001b[0m\u001b[0;34m\u001b[0m\u001b[0m\n\u001b[0;32m-> 1737\u001b[0;31m                 \u001b[0mtransformed_shards\u001b[0m \u001b[0;34m=\u001b[0m \u001b[0;34m[\u001b[0m\u001b[0mr\u001b[0m\u001b[0;34m.\u001b[0m\u001b[0mget\u001b[0m\u001b[0;34m(\u001b[0m\u001b[0;34m)\u001b[0m \u001b[0;32mfor\u001b[0m \u001b[0mr\u001b[0m \u001b[0;32min\u001b[0m \u001b[0mresults\u001b[0m\u001b[0;34m]\u001b[0m\u001b[0;34m\u001b[0m\u001b[0;34m\u001b[0m\u001b[0m\n\u001b[0m\u001b[1;32m   1738\u001b[0m                 \u001b[0mlogger\u001b[0m\u001b[0;34m.\u001b[0m\u001b[0minfo\u001b[0m\u001b[0;34m(\u001b[0m\u001b[0;34m\"Concatenating {} shards from multiprocessing\"\u001b[0m\u001b[0;34m.\u001b[0m\u001b[0mformat\u001b[0m\u001b[0;34m(\u001b[0m\u001b[0mnum_proc\u001b[0m\u001b[0;34m)\u001b[0m\u001b[0;34m)\u001b[0m\u001b[0;34m\u001b[0m\u001b[0;34m\u001b[0m\u001b[0m\n",
      "\u001b[0;32m~/datasets/src/datasets/arrow_dataset.py\u001b[0m in \u001b[0;36m<listcomp>\u001b[0;34m(.0)\u001b[0m\n\u001b[1;32m   1736\u001b[0m                 \u001b[0mresults\u001b[0m \u001b[0;34m=\u001b[0m \u001b[0;34m[\u001b[0m\u001b[0mpool\u001b[0m\u001b[0;34m.\u001b[0m\u001b[0mapply_async\u001b[0m\u001b[0;34m(\u001b[0m\u001b[0mself\u001b[0m\u001b[0;34m.\u001b[0m\u001b[0m__class__\u001b[0m\u001b[0;34m.\u001b[0m\u001b[0m_map_single\u001b[0m\u001b[0;34m,\u001b[0m \u001b[0mkwds\u001b[0m\u001b[0;34m=\u001b[0m\u001b[0mkwds\u001b[0m\u001b[0;34m)\u001b[0m \u001b[0;32mfor\u001b[0m \u001b[0mkwds\u001b[0m \u001b[0;32min\u001b[0m \u001b[0mkwds_per_shard\u001b[0m\u001b[0;34m]\u001b[0m\u001b[0;34m\u001b[0m\u001b[0;34m\u001b[0m\u001b[0m\n\u001b[0;32m-> 1737\u001b[0;31m                 \u001b[0mtransformed_shards\u001b[0m \u001b[0;34m=\u001b[0m \u001b[0;34m[\u001b[0m\u001b[0mr\u001b[0m\u001b[0;34m.\u001b[0m\u001b[0mget\u001b[0m\u001b[0;34m(\u001b[0m\u001b[0;34m)\u001b[0m \u001b[0;32mfor\u001b[0m \u001b[0mr\u001b[0m \u001b[0;32min\u001b[0m \u001b[0mresults\u001b[0m\u001b[0;34m]\u001b[0m\u001b[0;34m\u001b[0m\u001b[0;34m\u001b[0m\u001b[0m\n\u001b[0m\u001b[1;32m   1738\u001b[0m                 \u001b[0mlogger\u001b[0m\u001b[0;34m.\u001b[0m\u001b[0minfo\u001b[0m\u001b[0;34m(\u001b[0m\u001b[0;34m\"Concatenating {} shards from multiprocessing\"\u001b[0m\u001b[0;34m.\u001b[0m\u001b[0mformat\u001b[0m\u001b[0;34m(\u001b[0m\u001b[0mnum_proc\u001b[0m\u001b[0;34m)\u001b[0m\u001b[0;34m)\u001b[0m\u001b[0;34m\u001b[0m\u001b[0;34m\u001b[0m\u001b[0m\n",
      "\u001b[0;32m~/flaxsin/lib/python3.8/site-packages/multiprocess/pool.py\u001b[0m in \u001b[0;36mget\u001b[0;34m(self, timeout)\u001b[0m\n\u001b[1;32m    764\u001b[0m     \u001b[0;32mdef\u001b[0m \u001b[0mget\u001b[0m\u001b[0;34m(\u001b[0m\u001b[0mself\u001b[0m\u001b[0;34m,\u001b[0m \u001b[0mtimeout\u001b[0m\u001b[0;34m=\u001b[0m\u001b[0;32mNone\u001b[0m\u001b[0;34m)\u001b[0m\u001b[0;34m:\u001b[0m\u001b[0;34m\u001b[0m\u001b[0;34m\u001b[0m\u001b[0m\n\u001b[0;32m--> 765\u001b[0;31m         \u001b[0mself\u001b[0m\u001b[0;34m.\u001b[0m\u001b[0mwait\u001b[0m\u001b[0;34m(\u001b[0m\u001b[0mtimeout\u001b[0m\u001b[0;34m)\u001b[0m\u001b[0;34m\u001b[0m\u001b[0;34m\u001b[0m\u001b[0m\n\u001b[0m\u001b[1;32m    766\u001b[0m         \u001b[0;32mif\u001b[0m \u001b[0;32mnot\u001b[0m \u001b[0mself\u001b[0m\u001b[0;34m.\u001b[0m\u001b[0mready\u001b[0m\u001b[0;34m(\u001b[0m\u001b[0;34m)\u001b[0m\u001b[0;34m:\u001b[0m\u001b[0;34m\u001b[0m\u001b[0;34m\u001b[0m\u001b[0m\n",
      "\u001b[0;32m~/flaxsin/lib/python3.8/site-packages/multiprocess/pool.py\u001b[0m in \u001b[0;36mwait\u001b[0;34m(self, timeout)\u001b[0m\n\u001b[1;32m    761\u001b[0m     \u001b[0;32mdef\u001b[0m \u001b[0mwait\u001b[0m\u001b[0;34m(\u001b[0m\u001b[0mself\u001b[0m\u001b[0;34m,\u001b[0m \u001b[0mtimeout\u001b[0m\u001b[0;34m=\u001b[0m\u001b[0;32mNone\u001b[0m\u001b[0;34m)\u001b[0m\u001b[0;34m:\u001b[0m\u001b[0;34m\u001b[0m\u001b[0;34m\u001b[0m\u001b[0m\n\u001b[0;32m--> 762\u001b[0;31m         \u001b[0mself\u001b[0m\u001b[0;34m.\u001b[0m\u001b[0m_event\u001b[0m\u001b[0;34m.\u001b[0m\u001b[0mwait\u001b[0m\u001b[0;34m(\u001b[0m\u001b[0mtimeout\u001b[0m\u001b[0;34m)\u001b[0m\u001b[0;34m\u001b[0m\u001b[0;34m\u001b[0m\u001b[0m\n\u001b[0m\u001b[1;32m    763\u001b[0m \u001b[0;34m\u001b[0m\u001b[0m\n",
      "\u001b[0;32m/usr/lib/python3.8/threading.py\u001b[0m in \u001b[0;36mwait\u001b[0;34m(self, timeout)\u001b[0m\n\u001b[1;32m    557\u001b[0m             \u001b[0;32mif\u001b[0m \u001b[0;32mnot\u001b[0m \u001b[0msignaled\u001b[0m\u001b[0;34m:\u001b[0m\u001b[0;34m\u001b[0m\u001b[0;34m\u001b[0m\u001b[0m\n\u001b[0;32m--> 558\u001b[0;31m                 \u001b[0msignaled\u001b[0m \u001b[0;34m=\u001b[0m \u001b[0mself\u001b[0m\u001b[0;34m.\u001b[0m\u001b[0m_cond\u001b[0m\u001b[0;34m.\u001b[0m\u001b[0mwait\u001b[0m\u001b[0;34m(\u001b[0m\u001b[0mtimeout\u001b[0m\u001b[0;34m)\u001b[0m\u001b[0;34m\u001b[0m\u001b[0;34m\u001b[0m\u001b[0m\n\u001b[0m\u001b[1;32m    559\u001b[0m             \u001b[0;32mreturn\u001b[0m \u001b[0msignaled\u001b[0m\u001b[0;34m\u001b[0m\u001b[0;34m\u001b[0m\u001b[0m\n",
      "\u001b[0;32m/usr/lib/python3.8/threading.py\u001b[0m in \u001b[0;36mwait\u001b[0;34m(self, timeout)\u001b[0m\n\u001b[1;32m    301\u001b[0m             \u001b[0;32mif\u001b[0m \u001b[0mtimeout\u001b[0m \u001b[0;32mis\u001b[0m \u001b[0;32mNone\u001b[0m\u001b[0;34m:\u001b[0m\u001b[0;34m\u001b[0m\u001b[0;34m\u001b[0m\u001b[0m\n\u001b[0;32m--> 302\u001b[0;31m                 \u001b[0mwaiter\u001b[0m\u001b[0;34m.\u001b[0m\u001b[0macquire\u001b[0m\u001b[0;34m(\u001b[0m\u001b[0;34m)\u001b[0m\u001b[0;34m\u001b[0m\u001b[0;34m\u001b[0m\u001b[0m\n\u001b[0m\u001b[1;32m    303\u001b[0m                 \u001b[0mgotit\u001b[0m \u001b[0;34m=\u001b[0m \u001b[0;32mTrue\u001b[0m\u001b[0;34m\u001b[0m\u001b[0;34m\u001b[0m\u001b[0m\n",
      "\u001b[0;31mKeyboardInterrupt\u001b[0m: ",
      "\nDuring handling of the above exception, another exception occurred:\n",
      "\u001b[0;31mKeyboardInterrupt\u001b[0m                         Traceback (most recent call last)",
      "\u001b[0;32m/tmp/ipykernel_149574/3459371250.py\u001b[0m in \u001b[0;36m<module>\u001b[0;34m\u001b[0m\n\u001b[1;32m      4\u001b[0m     \u001b[0;32mreturn\u001b[0m \u001b[0mbatch\u001b[0m\u001b[0;34m\u001b[0m\u001b[0;34m\u001b[0m\u001b[0m\n\u001b[1;32m      5\u001b[0m \u001b[0;34m\u001b[0m\u001b[0m\n\u001b[0;32m----> 6\u001b[0;31m \u001b[0mtrain_data\u001b[0m \u001b[0;34m=\u001b[0m \u001b[0mtrain_data\u001b[0m\u001b[0;34m.\u001b[0m\u001b[0mmap\u001b[0m\u001b[0;34m(\u001b[0m\u001b[0mresample\u001b[0m\u001b[0;34m,\u001b[0m \u001b[0mnum_proc\u001b[0m\u001b[0;34m=\u001b[0m\u001b[0;36m8\u001b[0m\u001b[0;34m)\u001b[0m\u001b[0;34m\u001b[0m\u001b[0;34m\u001b[0m\u001b[0m\n\u001b[0m\u001b[1;32m      7\u001b[0m \u001b[0mtest_data\u001b[0m \u001b[0;34m=\u001b[0m \u001b[0mtest_data\u001b[0m\u001b[0;34m.\u001b[0m\u001b[0mmap\u001b[0m\u001b[0;34m(\u001b[0m\u001b[0mresample\u001b[0m\u001b[0;34m,\u001b[0m \u001b[0mnum_proc\u001b[0m\u001b[0;34m=\u001b[0m\u001b[0;36m8\u001b[0m\u001b[0;34m)\u001b[0m\u001b[0;34m\u001b[0m\u001b[0;34m\u001b[0m\u001b[0m\n",
      "\u001b[0;32m~/datasets/src/datasets/arrow_dataset.py\u001b[0m in \u001b[0;36mmap\u001b[0;34m(self, function, with_indices, input_columns, batched, batch_size, drop_last_batch, remove_columns, keep_in_memory, load_from_cache_file, cache_file_name, writer_batch_size, features, disable_nullable, fn_kwargs, num_proc, suffix_template, new_fingerprint, desc)\u001b[0m\n\u001b[1;32m   1740\u001b[0m                 \u001b[0;32mif\u001b[0m \u001b[0mnew_fingerprint\u001b[0m \u001b[0;32mis\u001b[0m \u001b[0;32mnot\u001b[0m \u001b[0;32mNone\u001b[0m\u001b[0;34m:\u001b[0m\u001b[0;34m\u001b[0m\u001b[0;34m\u001b[0m\u001b[0m\n\u001b[1;32m   1741\u001b[0m                     \u001b[0mresult\u001b[0m\u001b[0;34m.\u001b[0m\u001b[0m_fingerprint\u001b[0m \u001b[0;34m=\u001b[0m \u001b[0mnew_fingerprint\u001b[0m\u001b[0;34m\u001b[0m\u001b[0;34m\u001b[0m\u001b[0m\n\u001b[0;32m-> 1742\u001b[0;31m                 \u001b[0;32mreturn\u001b[0m \u001b[0mresult\u001b[0m\u001b[0;34m\u001b[0m\u001b[0;34m\u001b[0m\u001b[0m\n\u001b[0m\u001b[1;32m   1743\u001b[0m \u001b[0;34m\u001b[0m\u001b[0m\n\u001b[1;32m   1744\u001b[0m     \u001b[0;34m@\u001b[0m\u001b[0mtransmit_format\u001b[0m\u001b[0;34m\u001b[0m\u001b[0;34m\u001b[0m\u001b[0m\n",
      "\u001b[0;32m~/flaxsin/lib/python3.8/site-packages/multiprocess/pool.py\u001b[0m in \u001b[0;36m__exit__\u001b[0;34m(self, exc_type, exc_val, exc_tb)\u001b[0m\n\u001b[1;32m    734\u001b[0m \u001b[0;34m\u001b[0m\u001b[0m\n\u001b[1;32m    735\u001b[0m     \u001b[0;32mdef\u001b[0m \u001b[0m__exit__\u001b[0m\u001b[0;34m(\u001b[0m\u001b[0mself\u001b[0m\u001b[0;34m,\u001b[0m \u001b[0mexc_type\u001b[0m\u001b[0;34m,\u001b[0m \u001b[0mexc_val\u001b[0m\u001b[0;34m,\u001b[0m \u001b[0mexc_tb\u001b[0m\u001b[0;34m)\u001b[0m\u001b[0;34m:\u001b[0m\u001b[0;34m\u001b[0m\u001b[0;34m\u001b[0m\u001b[0m\n\u001b[0;32m--> 736\u001b[0;31m         \u001b[0mself\u001b[0m\u001b[0;34m.\u001b[0m\u001b[0mterminate\u001b[0m\u001b[0;34m(\u001b[0m\u001b[0;34m)\u001b[0m\u001b[0;34m\u001b[0m\u001b[0;34m\u001b[0m\u001b[0m\n\u001b[0m\u001b[1;32m    737\u001b[0m \u001b[0;34m\u001b[0m\u001b[0m\n\u001b[1;32m    738\u001b[0m \u001b[0;31m#\u001b[0m\u001b[0;34m\u001b[0m\u001b[0;34m\u001b[0m\u001b[0;34m\u001b[0m\u001b[0m\n",
      "\u001b[0;32m~/flaxsin/lib/python3.8/site-packages/multiprocess/pool.py\u001b[0m in \u001b[0;36mterminate\u001b[0;34m(self)\u001b[0m\n\u001b[1;32m    652\u001b[0m         \u001b[0mutil\u001b[0m\u001b[0;34m.\u001b[0m\u001b[0mdebug\u001b[0m\u001b[0;34m(\u001b[0m\u001b[0;34m'terminating pool'\u001b[0m\u001b[0;34m)\u001b[0m\u001b[0;34m\u001b[0m\u001b[0;34m\u001b[0m\u001b[0m\n\u001b[1;32m    653\u001b[0m         \u001b[0mself\u001b[0m\u001b[0;34m.\u001b[0m\u001b[0m_state\u001b[0m \u001b[0;34m=\u001b[0m \u001b[0mTERMINATE\u001b[0m\u001b[0;34m\u001b[0m\u001b[0;34m\u001b[0m\u001b[0m\n\u001b[0;32m--> 654\u001b[0;31m         \u001b[0mself\u001b[0m\u001b[0;34m.\u001b[0m\u001b[0m_terminate\u001b[0m\u001b[0;34m(\u001b[0m\u001b[0;34m)\u001b[0m\u001b[0;34m\u001b[0m\u001b[0;34m\u001b[0m\u001b[0m\n\u001b[0m\u001b[1;32m    655\u001b[0m \u001b[0;34m\u001b[0m\u001b[0m\n\u001b[1;32m    656\u001b[0m     \u001b[0;32mdef\u001b[0m \u001b[0mjoin\u001b[0m\u001b[0;34m(\u001b[0m\u001b[0mself\u001b[0m\u001b[0;34m)\u001b[0m\u001b[0;34m:\u001b[0m\u001b[0;34m\u001b[0m\u001b[0;34m\u001b[0m\u001b[0m\n",
      "\u001b[0;32m~/flaxsin/lib/python3.8/site-packages/multiprocess/util.py\u001b[0m in \u001b[0;36m__call__\u001b[0;34m(self, wr, _finalizer_registry, sub_debug, getpid)\u001b[0m\n\u001b[1;32m    222\u001b[0m                 sub_debug('finalizer calling %s with args %s and kwargs %s',\n\u001b[1;32m    223\u001b[0m                           self._callback, self._args, self._kwargs)\n\u001b[0;32m--> 224\u001b[0;31m                 \u001b[0mres\u001b[0m \u001b[0;34m=\u001b[0m \u001b[0mself\u001b[0m\u001b[0;34m.\u001b[0m\u001b[0m_callback\u001b[0m\u001b[0;34m(\u001b[0m\u001b[0;34m*\u001b[0m\u001b[0mself\u001b[0m\u001b[0;34m.\u001b[0m\u001b[0m_args\u001b[0m\u001b[0;34m,\u001b[0m \u001b[0;34m**\u001b[0m\u001b[0mself\u001b[0m\u001b[0;34m.\u001b[0m\u001b[0m_kwargs\u001b[0m\u001b[0;34m)\u001b[0m\u001b[0;34m\u001b[0m\u001b[0;34m\u001b[0m\u001b[0m\n\u001b[0m\u001b[1;32m    225\u001b[0m             \u001b[0mself\u001b[0m\u001b[0;34m.\u001b[0m\u001b[0m_weakref\u001b[0m \u001b[0;34m=\u001b[0m \u001b[0mself\u001b[0m\u001b[0;34m.\u001b[0m\u001b[0m_callback\u001b[0m \u001b[0;34m=\u001b[0m \u001b[0mself\u001b[0m\u001b[0;34m.\u001b[0m\u001b[0m_args\u001b[0m \u001b[0;34m=\u001b[0m\u001b[0;31m \u001b[0m\u001b[0;31m\\\u001b[0m\u001b[0;34m\u001b[0m\u001b[0;34m\u001b[0m\u001b[0m\n\u001b[1;32m    226\u001b[0m                             \u001b[0mself\u001b[0m\u001b[0;34m.\u001b[0m\u001b[0m_kwargs\u001b[0m \u001b[0;34m=\u001b[0m \u001b[0mself\u001b[0m\u001b[0;34m.\u001b[0m\u001b[0m_key\u001b[0m \u001b[0;34m=\u001b[0m \u001b[0;32mNone\u001b[0m\u001b[0;34m\u001b[0m\u001b[0;34m\u001b[0m\u001b[0m\n",
      "\u001b[0;32m~/flaxsin/lib/python3.8/site-packages/multiprocess/pool.py\u001b[0m in \u001b[0;36m_terminate_pool\u001b[0;34m(cls, taskqueue, inqueue, outqueue, pool, change_notifier, worker_handler, task_handler, result_handler, cache)\u001b[0m\n\u001b[1;32m    715\u001b[0m         \u001b[0mutil\u001b[0m\u001b[0;34m.\u001b[0m\u001b[0mdebug\u001b[0m\u001b[0;34m(\u001b[0m\u001b[0;34m'joining task handler'\u001b[0m\u001b[0;34m)\u001b[0m\u001b[0;34m\u001b[0m\u001b[0;34m\u001b[0m\u001b[0m\n\u001b[1;32m    716\u001b[0m         \u001b[0;32mif\u001b[0m \u001b[0mthreading\u001b[0m\u001b[0;34m.\u001b[0m\u001b[0mcurrent_thread\u001b[0m\u001b[0;34m(\u001b[0m\u001b[0;34m)\u001b[0m \u001b[0;32mis\u001b[0m \u001b[0;32mnot\u001b[0m \u001b[0mtask_handler\u001b[0m\u001b[0;34m:\u001b[0m\u001b[0;34m\u001b[0m\u001b[0;34m\u001b[0m\u001b[0m\n\u001b[0;32m--> 717\u001b[0;31m             \u001b[0mtask_handler\u001b[0m\u001b[0;34m.\u001b[0m\u001b[0mjoin\u001b[0m\u001b[0;34m(\u001b[0m\u001b[0;34m)\u001b[0m\u001b[0;34m\u001b[0m\u001b[0;34m\u001b[0m\u001b[0m\n\u001b[0m\u001b[1;32m    718\u001b[0m \u001b[0;34m\u001b[0m\u001b[0m\n\u001b[1;32m    719\u001b[0m         \u001b[0mutil\u001b[0m\u001b[0;34m.\u001b[0m\u001b[0mdebug\u001b[0m\u001b[0;34m(\u001b[0m\u001b[0;34m'joining result handler'\u001b[0m\u001b[0;34m)\u001b[0m\u001b[0;34m\u001b[0m\u001b[0;34m\u001b[0m\u001b[0m\n",
      "\u001b[0;32m/usr/lib/python3.8/threading.py\u001b[0m in \u001b[0;36mjoin\u001b[0;34m(self, timeout)\u001b[0m\n\u001b[1;32m   1009\u001b[0m \u001b[0;34m\u001b[0m\u001b[0m\n\u001b[1;32m   1010\u001b[0m         \u001b[0;32mif\u001b[0m \u001b[0mtimeout\u001b[0m \u001b[0;32mis\u001b[0m \u001b[0;32mNone\u001b[0m\u001b[0;34m:\u001b[0m\u001b[0;34m\u001b[0m\u001b[0;34m\u001b[0m\u001b[0m\n\u001b[0;32m-> 1011\u001b[0;31m             \u001b[0mself\u001b[0m\u001b[0;34m.\u001b[0m\u001b[0m_wait_for_tstate_lock\u001b[0m\u001b[0;34m(\u001b[0m\u001b[0;34m)\u001b[0m\u001b[0;34m\u001b[0m\u001b[0;34m\u001b[0m\u001b[0m\n\u001b[0m\u001b[1;32m   1012\u001b[0m         \u001b[0;32melse\u001b[0m\u001b[0;34m:\u001b[0m\u001b[0;34m\u001b[0m\u001b[0;34m\u001b[0m\u001b[0m\n\u001b[1;32m   1013\u001b[0m             \u001b[0;31m# the behavior of a negative timeout isn't documented, but\u001b[0m\u001b[0;34m\u001b[0m\u001b[0;34m\u001b[0m\u001b[0;34m\u001b[0m\u001b[0m\n",
      "\u001b[0;32m/usr/lib/python3.8/threading.py\u001b[0m in \u001b[0;36m_wait_for_tstate_lock\u001b[0;34m(self, block, timeout)\u001b[0m\n\u001b[1;32m   1025\u001b[0m         \u001b[0;32mif\u001b[0m \u001b[0mlock\u001b[0m \u001b[0;32mis\u001b[0m \u001b[0;32mNone\u001b[0m\u001b[0;34m:\u001b[0m  \u001b[0;31m# already determined that the C code is done\u001b[0m\u001b[0;34m\u001b[0m\u001b[0;34m\u001b[0m\u001b[0m\n\u001b[1;32m   1026\u001b[0m             \u001b[0;32massert\u001b[0m \u001b[0mself\u001b[0m\u001b[0;34m.\u001b[0m\u001b[0m_is_stopped\u001b[0m\u001b[0;34m\u001b[0m\u001b[0;34m\u001b[0m\u001b[0m\n\u001b[0;32m-> 1027\u001b[0;31m         \u001b[0;32melif\u001b[0m \u001b[0mlock\u001b[0m\u001b[0;34m.\u001b[0m\u001b[0macquire\u001b[0m\u001b[0;34m(\u001b[0m\u001b[0mblock\u001b[0m\u001b[0;34m,\u001b[0m \u001b[0mtimeout\u001b[0m\u001b[0;34m)\u001b[0m\u001b[0;34m:\u001b[0m\u001b[0;34m\u001b[0m\u001b[0;34m\u001b[0m\u001b[0m\n\u001b[0m\u001b[1;32m   1028\u001b[0m             \u001b[0mlock\u001b[0m\u001b[0;34m.\u001b[0m\u001b[0mrelease\u001b[0m\u001b[0;34m(\u001b[0m\u001b[0;34m)\u001b[0m\u001b[0;34m\u001b[0m\u001b[0;34m\u001b[0m\u001b[0m\n\u001b[1;32m   1029\u001b[0m             \u001b[0mself\u001b[0m\u001b[0;34m.\u001b[0m\u001b[0m_stop\u001b[0m\u001b[0;34m(\u001b[0m\u001b[0;34m)\u001b[0m\u001b[0;34m\u001b[0m\u001b[0;34m\u001b[0m\u001b[0m\n",
      "\u001b[0;31mKeyboardInterrupt\u001b[0m: "
     ]
    }
   ],
   "source": [
    "def resample(batch):\n",
    "    batch[\"speech\"] = librosa.resample(np.asarray(batch[\"speech\"]), 48_000, 16_000)\n",
    "    batch[\"sampling_rate\"] = 16_000\n",
    "    return batch\n",
    "\n",
    "train_data = train_data.map(resample, num_proc=64)\n",
    "test_data = test_data.map(resample, num_proc=64)"
   ]
  },
  {
   "cell_type": "code",
   "execution_count": null,
   "id": "22be29f5-e504-4243-87ba-6e2006913fc5",
   "metadata": {},
   "outputs": [],
   "source": [
    "def prepare_dataset(batch):\n",
    "    # check that all files have the correct sampling rate\n",
    "    assert (len(set(batch[\"sampling_rate\"])) == 1), f\"Make sure all inputs have the same sampling rate of {processor.feature_extractor.sampling_rate}.\"\n",
    "\n",
    "    batch[\"input_values\"] = processor(batch[\"speech\"], sampling_rate=batch[\"sampling_rate\"][0]).input_values\n",
    "                    \n",
    "    with processor.as_target_processor():\n",
    "        batch[\"labels\"] = processor(batch[\"target_text\"]).input_ids\n",
    "    return batch\n",
    "\n",
    "train_data = train_data.map(prepare_dataset, remove_columns=train_data.column_names, batch_size=8, num_proc=8, batched=True, return_tensors=\"pt\")\n",
    "test_data = test_data.map(prepare_dataset, remove_columns=test_data.column_names, batch_size=8, num_proc=8, batched=True, return_tensors=\"pt\")"
   ]
  },
  {
   "cell_type": "code",
   "execution_count": null,
   "id": "f22ac827-9e2d-4082-ac96-c3b5c99cf870",
   "metadata": {},
   "outputs": [],
   "source": [
    "train_data = train_data.with_format(\"torch\")\n",
    "test_data = test_data.with_format(\"torch\")\n",
    "\n",
    "torch.save(train_data, 'train_si_asr.pt')\n",
    "torch.save(test_data, 'test_si_asr.pt')"
   ]
  },
  {
   "cell_type": "code",
   "execution_count": null,
   "id": "93b0cb27-cbed-4ba0-a996-2db8d6c8bcb6",
   "metadata": {},
   "outputs": [],
   "source": []
  }
 ],
 "metadata": {
  "kernelspec": {
   "display_name": "Python 3 (ipykernel)",
   "language": "python",
   "name": "python3"
  },
  "language_info": {
   "codemirror_mode": {
    "name": "ipython",
    "version": 3
   },
   "file_extension": ".py",
   "mimetype": "text/x-python",
   "name": "python",
   "nbconvert_exporter": "python",
   "pygments_lexer": "ipython3",
   "version": "3.8.10"
  }
 },
 "nbformat": 4,
 "nbformat_minor": 5
}
