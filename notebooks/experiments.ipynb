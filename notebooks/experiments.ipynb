{
 "cells": [
  {
   "cell_type": "code",
   "execution_count": 36,
   "id": "3119f3b6-77a1-4a4c-bf37-795a3b8b7b63",
   "metadata": {},
   "outputs": [
    {
     "data": {
      "text/plain": [
       "[TpuDevice(id=0, process_index=0, coords=(0,0,0), core_on_chip=0),\n",
       " TpuDevice(id=1, process_index=0, coords=(0,0,0), core_on_chip=1),\n",
       " TpuDevice(id=2, process_index=0, coords=(1,0,0), core_on_chip=0),\n",
       " TpuDevice(id=3, process_index=0, coords=(1,0,0), core_on_chip=1),\n",
       " TpuDevice(id=4, process_index=0, coords=(0,1,0), core_on_chip=0),\n",
       " TpuDevice(id=5, process_index=0, coords=(0,1,0), core_on_chip=1),\n",
       " TpuDevice(id=6, process_index=0, coords=(1,1,0), core_on_chip=0),\n",
       " TpuDevice(id=7, process_index=0, coords=(1,1,0), core_on_chip=1)]"
      ]
     },
     "execution_count": 36,
     "metadata": {},
     "output_type": "execute_result"
    }
   ],
   "source": [
    "import jax\n",
    "\n",
    "jax.devices()"
   ]
  },
  {
   "cell_type": "code",
   "execution_count": 35,
   "id": "7e224d73-3a58-4fc3-9c9b-083705c5be4f",
   "metadata": {},
   "outputs": [
    {
     "name": "stdout",
     "output_type": "stream",
     "text": [
      "              total        used        free      shared  buff/cache   available\n",
      "Mem:          334Gi       6.0Gi       319Gi       1.0Mi       8.8Gi       326Gi\n",
      "Swap:            0B          0B          0B\n"
     ]
    }
   ],
   "source": [
    "!free -mh"
   ]
  },
  {
   "cell_type": "code",
   "execution_count": 3,
   "id": "37795a70-2729-4181-9dd2-c03886ac7efe",
   "metadata": {},
   "outputs": [],
   "source": [
    "language = \"si\""
   ]
  },
  {
   "cell_type": "code",
   "execution_count": 4,
   "id": "37a9b646-4e0f-49c9-984a-a4ee0d84dae6",
   "metadata": {},
   "outputs": [],
   "source": [
    "model_config = \"distilgpt2\""
   ]
  },
  {
   "cell_type": "code",
   "execution_count": 5,
   "id": "a6a3bda3-ed35-4614-8aab-741031f06f14",
   "metadata": {},
   "outputs": [],
   "source": [
    "model_dir = \"../models/\" + model_config + f\"-pretrained-{language}\""
   ]
  },
  {
   "cell_type": "code",
   "execution_count": 6,
   "id": "7f3d60a9-24b6-4163-a2be-f754b295317b",
   "metadata": {},
   "outputs": [],
   "source": [
    "from pathlib import Path\n",
    "\n",
    "Path(model_dir).mkdir(parents=True, exist_ok=True)"
   ]
  },
  {
   "cell_type": "code",
   "execution_count": 7,
   "id": "9f3378fd-51a2-45e9-8985-ddf4c1d6a2b8",
   "metadata": {},
   "outputs": [
    {
     "data": {
      "application/vnd.jupyter.widget-view+json": {
       "model_id": "8d17d2ec33ed49f493aaf35d978a5faa",
       "version_major": 2,
       "version_minor": 0
      },
      "text/plain": [
       "Downloading:   0%|          | 0.00/762 [00:00<?, ?B/s]"
      ]
     },
     "metadata": {},
     "output_type": "display_data"
    }
   ],
   "source": [
    "from transformers import AutoConfig\n",
    "\n",
    "config = AutoConfig.from_pretrained(model_config)"
   ]
  },
  {
   "cell_type": "code",
   "execution_count": 8,
   "id": "2595998c-6a80-4f74-bcd3-8784198b901c",
   "metadata": {},
   "outputs": [],
   "source": [
    "config.save_pretrained(f\"{model_dir}\")"
   ]
  },
  {
   "cell_type": "code",
   "execution_count": 9,
   "id": "f3c47f85-13df-4642-9851-da93e7339dd8",
   "metadata": {},
   "outputs": [],
   "source": [
    "from datasets import load_dataset\n",
    "from tokenizers import trainers, Tokenizer, normalizers, ByteLevelBPETokenizer\n",
    "from pathlib import Path"
   ]
  },
  {
   "cell_type": "code",
   "execution_count": 10,
   "id": "7b5099fd-6ef5-4d65-820d-f476463366a4",
   "metadata": {},
   "outputs": [
    {
     "name": "stdout",
     "output_type": "stream",
     "text": [
      "Downloading and preparing dataset oscar/unshuffled_deduplicated_si (download: 167.48 MiB, generated: 802.48 MiB, post-processed: Unknown size, total: 969.95 MiB) to /home/Keshan/.cache/huggingface/datasets/oscar/unshuffled_deduplicated_si/1.0.0/84838bd49d2295f62008383b05620571535451d84545037bb94d6f3501651df2...\n"
     ]
    },
    {
     "data": {
      "application/vnd.jupyter.widget-view+json": {
       "model_id": "1b1e5ed1419c4f458e454a5c0906c5f6",
       "version_major": 2,
       "version_minor": 0
      },
      "text/plain": [
       "Downloading:   0%|          | 0.00/81.0 [00:00<?, ?B/s]"
      ]
     },
     "metadata": {},
     "output_type": "display_data"
    },
    {
     "data": {
      "application/vnd.jupyter.widget-view+json": {
       "model_id": "e8c3390f98174bd297fe36a8a6971bf0",
       "version_major": 2,
       "version_minor": 0
      },
      "text/plain": [
       "Downloading:   0%|          | 0.00/176M [00:00<?, ?B/s]"
      ]
     },
     "metadata": {},
     "output_type": "display_data"
    },
    {
     "data": {
      "application/vnd.jupyter.widget-view+json": {
       "model_id": "e1b631a5415940c3841ab4c2b1d973b5",
       "version_major": 2,
       "version_minor": 0
      },
      "text/plain": [
       "0 examples [00:00, ? examples/s]"
      ]
     },
     "metadata": {},
     "output_type": "display_data"
    },
    {
     "name": "stdout",
     "output_type": "stream",
     "text": [
      "Dataset oscar downloaded and prepared to /home/Keshan/.cache/huggingface/datasets/oscar/unshuffled_deduplicated_si/1.0.0/84838bd49d2295f62008383b05620571535451d84545037bb94d6f3501651df2. Subsequent calls will reuse this data.\n"
     ]
    }
   ],
   "source": [
    "raw_dataset = load_dataset(\"oscar\", f\"unshuffled_deduplicated_{language}\")"
   ]
  },
  {
   "cell_type": "code",
   "execution_count": 11,
   "id": "82400085-4bce-4293-ad63-1253e02e710d",
   "metadata": {},
   "outputs": [],
   "source": [
    "tokenizer = ByteLevelBPETokenizer()"
   ]
  },
  {
   "cell_type": "code",
   "execution_count": 12,
   "id": "454abb52-2a09-4ee6-bd3c-f7293f1f9ab5",
   "metadata": {},
   "outputs": [],
   "source": [
    "def batch_iterator(batch_size=1000):\n",
    "    for i in range(0, len(raw_dataset), batch_size):\n",
    "        yield raw_dataset[\"train\"][i: i + batch_size][\"text\"]"
   ]
  },
  {
   "cell_type": "code",
   "execution_count": 13,
   "id": "5a6175b4-bbf1-4442-af60-1e8b034c9bcc",
   "metadata": {},
   "outputs": [
    {
     "name": "stdout",
     "output_type": "stream",
     "text": [
      "\n",
      "\n",
      "\n"
     ]
    }
   ],
   "source": [
    "tokenizer.train_from_iterator(batch_iterator(), vocab_size=config.vocab_size, min_frequency=2, special_tokens=[\n",
    "    \"<s>\",\n",
    "    \"<pad>\",\n",
    "    \"</s>\",\n",
    "    \"<unk>\",\n",
    "    \"<mask>\",\n",
    "])"
   ]
  },
  {
   "cell_type": "code",
   "execution_count": 14,
   "id": "565ccb99-9b46-4f49-9fe9-8dece89a60d2",
   "metadata": {},
   "outputs": [],
   "source": [
    "tokenizer.save(f\"{model_dir}/tokenizer.json\")"
   ]
  },
  {
   "cell_type": "code",
   "execution_count": 37,
   "id": "ae9a3ba5-4d8f-4936-b82e-db4c7a27476e",
   "metadata": {},
   "outputs": [],
   "source": [
    "max_seq_length = 512"
   ]
  },
  {
   "cell_type": "code",
   "execution_count": 38,
   "id": "4fdbe66c-e981-46c3-9c49-d48b2df792c9",
   "metadata": {},
   "outputs": [
    {
     "name": "stderr",
     "output_type": "stream",
     "text": [
      "WARNING:datasets.builder:Reusing dataset oscar (/home/Keshan/.cache/huggingface/datasets/oscar/unshuffled_deduplicated_si/1.0.0/84838bd49d2295f62008383b05620571535451d84545037bb94d6f3501651df2)\n"
     ]
    }
   ],
   "source": [
    "raw_dataset[\"train\"] = load_dataset(\"oscar\", f\"unshuffled_deduplicated_{language}\", split=\"train[5%:]\")"
   ]
  },
  {
   "cell_type": "code",
   "execution_count": 39,
   "id": "8f13f435-ec35-4d75-bee2-b04d507d408e",
   "metadata": {},
   "outputs": [
    {
     "name": "stderr",
     "output_type": "stream",
     "text": [
      "WARNING:datasets.builder:Reusing dataset oscar (/home/Keshan/.cache/huggingface/datasets/oscar/unshuffled_deduplicated_si/1.0.0/84838bd49d2295f62008383b05620571535451d84545037bb94d6f3501651df2)\n"
     ]
    }
   ],
   "source": [
    "raw_dataset[\"validation\"] = load_dataset(\"oscar\", f\"unshuffled_deduplicated_{language}\", split=\"train[:5%]\")"
   ]
  },
  {
   "cell_type": "code",
   "execution_count": 40,
   "id": "35d97f35-a423-4d8f-a24e-f6c083d2f3f8",
   "metadata": {},
   "outputs": [
    {
     "name": "stderr",
     "output_type": "stream",
     "text": [
      "Special tokens have been added in the vocabulary, make sure the associated word embeddings are fine-tuned or trained.\n"
     ]
    }
   ],
   "source": [
    "from transformers import AutoTokenizer\n",
    "\n",
    "tokenizer = AutoTokenizer.from_pretrained(f\"{model_dir}\")"
   ]
  },
  {
   "cell_type": "code",
   "execution_count": 41,
   "id": "a5481403-1832-4b7a-b1c5-a076c3ff56df",
   "metadata": {},
   "outputs": [],
   "source": [
    "def tokenize_function(examples):\n",
    "    return tokenizer(examples[\"text\"])"
   ]
  },
  {
   "cell_type": "code",
   "execution_count": 42,
   "id": "f9fb316f-2fae-4c9b-97f6-d39f134650bc",
   "metadata": {},
   "outputs": [
    {
     "name": "stderr",
     "output_type": "stream",
     "text": [
      "WARNING:datasets.arrow_dataset:Loading cached processed dataset at /home/Keshan/.cache/huggingface/datasets/oscar/unshuffled_deduplicated_si/1.0.0/84838bd49d2295f62008383b05620571535451d84545037bb94d6f3501651df2/cache-3c98f94db385a63a.arrow\n",
      "WARNING:datasets.arrow_dataset:Loading cached processed dataset at /home/Keshan/.cache/huggingface/datasets/oscar/unshuffled_deduplicated_si/1.0.0/84838bd49d2295f62008383b05620571535451d84545037bb94d6f3501651df2/cache-9b5922e6165025ba.arrow\n",
      "WARNING:datasets.arrow_dataset:Loading cached processed dataset at /home/Keshan/.cache/huggingface/datasets/oscar/unshuffled_deduplicated_si/1.0.0/84838bd49d2295f62008383b05620571535451d84545037bb94d6f3501651df2/cache-382e066d5588cc20.arrow\n",
      "WARNING:datasets.arrow_dataset:Loading cached processed dataset at /home/Keshan/.cache/huggingface/datasets/oscar/unshuffled_deduplicated_si/1.0.0/84838bd49d2295f62008383b05620571535451d84545037bb94d6f3501651df2/cache-4f97480f0d511599.arrow\n",
      "WARNING:datasets.arrow_dataset:Loading cached processed dataset at /home/Keshan/.cache/huggingface/datasets/oscar/unshuffled_deduplicated_si/1.0.0/84838bd49d2295f62008383b05620571535451d84545037bb94d6f3501651df2/cache-02b034bd85407111.arrow\n",
      "WARNING:datasets.arrow_dataset:Loading cached processed dataset at /home/Keshan/.cache/huggingface/datasets/oscar/unshuffled_deduplicated_si/1.0.0/84838bd49d2295f62008383b05620571535451d84545037bb94d6f3501651df2/cache-d35b6897a3cea219.arrow\n",
      "WARNING:datasets.arrow_dataset:Loading cached processed dataset at /home/Keshan/.cache/huggingface/datasets/oscar/unshuffled_deduplicated_si/1.0.0/84838bd49d2295f62008383b05620571535451d84545037bb94d6f3501651df2/cache-93d1db3955435943.arrow\n",
      "WARNING:datasets.arrow_dataset:Loading cached processed dataset at /home/Keshan/.cache/huggingface/datasets/oscar/unshuffled_deduplicated_si/1.0.0/84838bd49d2295f62008383b05620571535451d84545037bb94d6f3501651df2/cache-fa9a39663be7430c.arrow\n"
     ]
    }
   ],
   "source": [
    "tokenized_datasets = raw_dataset.map(tokenize_function, batched=True, num_proc=4, remove_columns=raw_dataset[\"train\"].column_names)"
   ]
  },
  {
   "cell_type": "code",
   "execution_count": 43,
   "id": "830fbfa5-7f33-45d8-8cb3-5c54300aab36",
   "metadata": {},
   "outputs": [],
   "source": [
    "def group_texts(examples):\n",
    "    concatenated_examples = {k: sum(examples[k], []) for k in examples.keys()}\n",
    "    total_length = len(concatenated_examples[list(examples.keys())[0]])\n",
    "    total_length = (total_length // max_seq_length) * max_seq_length\n",
    "    result = {\n",
    "        k: [t[i : i + max_seq_length] for i in range(0, total_length, max_seq_length)]\n",
    "        for k, t in concatenated_examples.items()\n",
    "    }\n",
    "    result[\"labels\"] = result[\"input_ids\"].copy()\n",
    "    return result"
   ]
  },
  {
   "cell_type": "code",
   "execution_count": 44,
   "id": "91c236c9-e8ac-404c-9b5d-f758d814747e",
   "metadata": {},
   "outputs": [
    {
     "name": "stderr",
     "output_type": "stream",
     "text": [
      "https://symbolize.stripped_domain/r/?trace=7fa4697e7f99,7fa4695fc20f&map= \n",
      "*** SIGTERM received by PID 123988 (TID 123988) on cpu 71 from PID 121832; stack trace: ***\n",
      "PC: @     0x7fa4697e7f99  (unknown)  munmap\n",
      "    @     0x7fa457ca9800        976  (unknown)\n",
      "    @     0x7fa4695fc210  (unknown)  (unknown)\n",
      "https://symbolize.stripped_domain/r/?trace=7fa4697e7f99,7fa457ca97ff,7fa4695fc20f&map=2a762cd764e70bc90ae4c7f9747c08d7:7fa44ad67000-7fa457fe8280 \n",
      "E0708 06:22:01.272365  123988 coredump_hook.cc:250] RAW: Remote crash gathering disabled for SIGTERM.\n",
      "E0708 06:22:01.279528  123988 process_state.cc:771] RAW: Raising signal 15 with default behavior\n",
      "https://symbolize.stripped_domain/r/?trace=7fa4699c860a,7fa4695fc20f&map= \n",
      "*** SIGTERM received by PID 124272 (TID 124272) on cpu 24 from PID 121832; stack trace: ***\n",
      "PC: @     0x7fa4699c860a  (unknown)  (unknown)\n",
      "    @     0x7fa457ca9800        976  (unknown)\n",
      "    @     0x7fa4695fc210  (unknown)  (unknown)\n",
      "https://symbolize.stripped_domain/r/?trace=7fa4699c860a,7fa457ca97ff,7fa4695fc20f&map=2a762cd764e70bc90ae4c7f9747c08d7:7fa44ad67000-7fa457fe8280 \n",
      "E0708 06:22:17.873665  124272 coredump_hook.cc:250] RAW: Remote crash gathering disabled for SIGTERM.\n",
      "E0708 06:22:17.883418  124272 process_state.cc:771] RAW: Raising signal 15 with default behavior\n"
     ]
    }
   ],
   "source": [
    "tokenized_datasets = tokenized_datasets.map(group_texts, batched=True, num_proc=4)"
   ]
  },
  {
   "cell_type": "code",
   "execution_count": null,
   "id": "79fabdb8-4019-4c49-b15c-7f0c7ba3240c",
   "metadata": {},
   "outputs": [],
   "source": []
  },
  {
   "cell_type": "code",
   "execution_count": 57,
   "id": "6f23bb11-e041-436e-8a50-a1185386469a",
   "metadata": {},
   "outputs": [],
   "source": [
    "import jax\n",
    "import optax\n",
    "import flax\n",
    "import jax.numpy as jnp\n",
    "import math\n",
    "\n",
    "from flax.training import train_state\n",
    "from flax.training.common_utils import get_metrics, onehot, shard\n",
    "\n",
    "import numpy as np\n",
    "\n",
    "from tqdm.auto import tqdm"
   ]
  },
  {
   "cell_type": "code",
   "execution_count": 46,
   "id": "985c7872-3bf0-43b4-8983-6e20ac501c2c",
   "metadata": {},
   "outputs": [],
   "source": [
    "per_device_batch_size = 64\n",
    "num_epochs = 10\n",
    "training_seed = 0\n",
    "learning_rate = 3e-4\n",
    "\n",
    "total_batch_size = per_device_batch_size * jax.device_count()\n",
    "num_train_steps = len(tokenized_datasets[\"train\"]) // total_batch_size * num_epochs"
   ]
  },
  {
   "cell_type": "code",
   "execution_count": 47,
   "id": "fe058f18-4e1d-4448-b895-cd3971f4cb85",
   "metadata": {},
   "outputs": [],
   "source": [
    "from transformers import FlaxAutoModelForCausalLM\n",
    "\n",
    "model = FlaxAutoModelForCausalLM.from_config(config, seed=training_seed, dtype=jnp.dtype(\"bfloat16\"))"
   ]
  },
  {
   "cell_type": "code",
   "execution_count": 48,
   "id": "0c3dc4ca-6fda-4a25-964d-54ee2d651acd",
   "metadata": {},
   "outputs": [],
   "source": [
    "linear_decay_lr_schedule_fn = optax.linear_schedule(init_value=learning_rate, end_value=0, transition_steps=num_train_steps)"
   ]
  },
  {
   "cell_type": "code",
   "execution_count": 49,
   "id": "07035fd0-4fab-4e9b-8c84-8361000c7ec6",
   "metadata": {},
   "outputs": [],
   "source": [
    "adamw = optax.adamw(learning_rate=linear_decay_lr_schedule_fn, b1=0.9, b2=0.98, eps=1e-8, weight_decay=0.01)"
   ]
  },
  {
   "cell_type": "code",
   "execution_count": 50,
   "id": "b18ae10d-cc59-4546-9c13-5b891300eb4a",
   "metadata": {},
   "outputs": [],
   "source": [
    "state = train_state.TrainState.create(apply_fn=model.__call__, params=model.params, tx=adamw)"
   ]
  },
  {
   "cell_type": "code",
   "execution_count": 51,
   "id": "2d729abb-3262-44f2-8507-85f020006022",
   "metadata": {},
   "outputs": [],
   "source": [
    "def data_loader(rng, dataset, batch_size, shuffle=False):\n",
    "    steps_per_epoch = len(dataset) // batch_size\n",
    "\n",
    "    if shuffle:\n",
    "        batch_idx = jax.random.permutation(rng, len(dataset))\n",
    "    else:\n",
    "        batch_idx = jnp.arange(len(dataset))\n",
    "\n",
    "    batch_idx = batch_idx[: steps_per_epoch * batch_size]  # Skip incomplete batch.\n",
    "    batch_idx = batch_idx.reshape((steps_per_epoch, batch_size))\n",
    "\n",
    "    for idx in batch_idx:\n",
    "        batch = dataset[idx]\n",
    "        batch = {k: jnp.array(v) for k, v in batch.items()}\n",
    "\n",
    "        batch = shard(batch)\n",
    "\n",
    "        yield batch"
   ]
  },
  {
   "cell_type": "code",
   "execution_count": 52,
   "id": "58c306c1-616a-4854-96e3-fd992a8183d8",
   "metadata": {},
   "outputs": [],
   "source": [
    "def train_step(state, batch, dropout_rng):\n",
    "    dropout_rng, new_dropout_rng = jax.random.split(dropout_rng)\n",
    "\n",
    "    def loss_fn(params):\n",
    "        labels = batch.pop(\"labels\")\n",
    "        logits = state.apply_fn(**batch, params=params, dropout_rng=dropout_rng, train=True)[0]\n",
    "        \n",
    "        loss = optax.softmax_cross_entropy(logits[..., :-1, :], onehot(labels[..., 1:], logits.shape[-1])).mean()\n",
    "        return loss\n",
    "\n",
    "    grad_fn = jax.value_and_grad(loss_fn)\n",
    "    loss, grad = grad_fn(state.params)\n",
    "    grad = jax.lax.pmean(grad, \"batch\")\n",
    "    new_state = state.apply_gradients(grads=grad)\n",
    "\n",
    "    metrics = jax.lax.pmean(\n",
    "        {\"loss\": loss, \"learning_rate\": linear_decay_lr_schedule_fn(state.step)}, axis_name=\"batch\"\n",
    "    )\n",
    "\n",
    "    return new_state, metrics, new_dropout_rng"
   ]
  },
  {
   "cell_type": "code",
   "execution_count": 53,
   "id": "51222123-9ec1-4950-ba3b-97730f57c68a",
   "metadata": {},
   "outputs": [],
   "source": [
    "parallel_train_step = jax.pmap(train_step, \"batch\")"
   ]
  },
  {
   "cell_type": "code",
   "execution_count": 54,
   "id": "057d8aaf-2d69-41f2-9ccd-789789b4abf6",
   "metadata": {},
   "outputs": [],
   "source": [
    "def eval_step(params, batch):\n",
    "    labels = batch.pop(\"labels\")\n",
    "\n",
    "    logits = model(**batch, params=params, train=False)[0]\n",
    "\n",
    "    loss = optax.softmax_cross_entropy(logits[..., :-1, :], onehot(labels[..., 1:], logits.shape[-1])).mean()\n",
    "\n",
    "    # summarize metrics\n",
    "    metrics = {\"loss\": loss, \"perplexity\": jnp.exp(loss)}\n",
    "    metrics = jax.lax.pmean(metrics, axis_name=\"batch\")\n",
    "    return metrics"
   ]
  },
  {
   "cell_type": "code",
   "execution_count": 55,
   "id": "477a1e13-466c-4ffb-b6e2-3cbb6e6269e0",
   "metadata": {},
   "outputs": [],
   "source": [
    "parallel_eval_step = jax.pmap(eval_step, \"batch\")\n",
    "state = flax.jax_utils.replicate(state)\n",
    "\n",
    "rng = jax.random.PRNGKey(training_seed)\n",
    "dropout_rngs = jax.random.split(rng, jax.local_device_count())"
   ]
  },
  {
   "cell_type": "code",
   "execution_count": 56,
   "id": "2dfab945-b952-4fcf-8a00-b49fabe9f789",
   "metadata": {},
   "outputs": [
    {
     "data": {
      "application/vnd.jupyter.widget-view+json": {
       "model_id": "fbbdcfe2be624ca4a2ed00dc1d8dcf8d",
       "version_major": 2,
       "version_minor": 0
      },
      "text/plain": [
       "Epoch ...:   0%|          | 0/10 [00:00<?, ?it/s]"
      ]
     },
     "metadata": {},
     "output_type": "display_data"
    },
    {
     "data": {
      "application/vnd.jupyter.widget-view+json": {
       "model_id": "149005c8ca6b4b4d8ff9b70737086bd5",
       "version_major": 2,
       "version_minor": 0
      },
      "text/plain": [
       "Training...:   0%|          | 0/758 [00:00<?, ?it/s]"
      ]
     },
     "metadata": {},
     "output_type": "display_data"
    },
    {
     "name": "stdout",
     "output_type": "stream",
     "text": [
      "Train... (1/10 | Loss: 2.509000062942505, Learning Rate: 0.0002699999895412475)\n"
     ]
    },
    {
     "data": {
      "application/vnd.jupyter.widget-view+json": {
       "model_id": "b707761934d64178b14510b10966b2e3",
       "version_major": 2,
       "version_minor": 0
      },
      "text/plain": [
       "Evaluation...:   0%|          | 0/40 [00:00<?, ?it/s]"
      ]
     },
     "metadata": {},
     "output_type": "display_data"
    },
    {
     "name": "stdout",
     "output_type": "stream",
     "text": [
      "Eval... (1/10 | Loss: 2.480623960494995 | Perplexity: 12.450997352600098)\n"
     ]
    },
    {
     "data": {
      "application/vnd.jupyter.widget-view+json": {
       "model_id": "389b5c8c28b04b27832c8c537dee81e2",
       "version_major": 2,
       "version_minor": 0
      },
      "text/plain": [
       "Training...:   0%|          | 0/758 [00:00<?, ?it/s]"
      ]
     },
     "metadata": {},
     "output_type": "display_data"
    },
    {
     "name": "stdout",
     "output_type": "stream",
     "text": [
      "Train... (2/10 | Loss: 2.1080000400543213, Learning Rate: 0.00023999999393709004)\n"
     ]
    },
    {
     "data": {
      "application/vnd.jupyter.widget-view+json": {
       "model_id": "8b419753056345caae0bd89f9abfb678",
       "version_major": 2,
       "version_minor": 0
      },
      "text/plain": [
       "Evaluation...:   0%|          | 0/40 [00:00<?, ?it/s]"
      ]
     },
     "metadata": {},
     "output_type": "display_data"
    },
    {
     "name": "stdout",
     "output_type": "stream",
     "text": [
      "Eval... (2/10 | Loss: 2.1132447719573975 | Perplexity: 8.5897855758667)\n"
     ]
    },
    {
     "data": {
      "application/vnd.jupyter.widget-view+json": {
       "model_id": "d60856a6801b40eda8cff8cd7a4d0eb7",
       "version_major": 2,
       "version_minor": 0
      },
      "text/plain": [
       "Training...:   0%|          | 0/758 [00:00<?, ?it/s]"
      ]
     },
     "metadata": {},
     "output_type": "display_data"
    },
    {
     "name": "stdout",
     "output_type": "stream",
     "text": [
      "Train... (3/10 | Loss: 2.005000114440918, Learning Rate: 0.0002099999983329326)\n"
     ]
    },
    {
     "data": {
      "application/vnd.jupyter.widget-view+json": {
       "model_id": "7661c4204002423f84aecbc6c635cd29",
       "version_major": 2,
       "version_minor": 0
      },
      "text/plain": [
       "Evaluation...:   0%|          | 0/40 [00:00<?, ?it/s]"
      ]
     },
     "metadata": {},
     "output_type": "display_data"
    },
    {
     "name": "stdout",
     "output_type": "stream",
     "text": [
      "Eval... (3/10 | Loss: 1.9953031539916992 | Perplexity: 7.633769512176514)\n"
     ]
    },
    {
     "data": {
      "application/vnd.jupyter.widget-view+json": {
       "model_id": "21bed151685f47c0b01580b050d227da",
       "version_major": 2,
       "version_minor": 0
      },
      "text/plain": [
       "Training...:   0%|          | 0/758 [00:00<?, ?it/s]"
      ]
     },
     "metadata": {},
     "output_type": "display_data"
    },
    {
     "name": "stdout",
     "output_type": "stream",
     "text": [
      "Train... (4/10 | Loss: 1.942000150680542, Learning Rate: 0.00018000000272877514)\n"
     ]
    },
    {
     "data": {
      "application/vnd.jupyter.widget-view+json": {
       "model_id": "2ca9771aff8943f3b74bbc181f449145",
       "version_major": 2,
       "version_minor": 0
      },
      "text/plain": [
       "Evaluation...:   0%|          | 0/40 [00:00<?, ?it/s]"
      ]
     },
     "metadata": {},
     "output_type": "display_data"
    },
    {
     "name": "stdout",
     "output_type": "stream",
     "text": [
      "Eval... (4/10 | Loss: 1.9307587146759033 | Perplexity: 7.157529354095459)\n"
     ]
    },
    {
     "data": {
      "application/vnd.jupyter.widget-view+json": {
       "model_id": "ac1ebd66b2854c0e97d731a2237a60b6",
       "version_major": 2,
       "version_minor": 0
      },
      "text/plain": [
       "Training...:   0%|          | 0/758 [00:00<?, ?it/s]"
      ]
     },
     "metadata": {},
     "output_type": "display_data"
    },
    {
     "name": "stdout",
     "output_type": "stream",
     "text": [
      "Train... (5/10 | Loss: 1.8970000743865967, Learning Rate: 0.00014999999257270247)\n"
     ]
    },
    {
     "data": {
      "application/vnd.jupyter.widget-view+json": {
       "model_id": "f502e4af4b1740c9a792ce18d75ee6a3",
       "version_major": 2,
       "version_minor": 0
      },
      "text/plain": [
       "Evaluation...:   0%|          | 0/40 [00:00<?, ?it/s]"
      ]
     },
     "metadata": {},
     "output_type": "display_data"
    },
    {
     "name": "stdout",
     "output_type": "stream",
     "text": [
      "Eval... (5/10 | Loss: 1.8898165225982666 | Perplexity: 6.869416236877441)\n"
     ]
    },
    {
     "data": {
      "application/vnd.jupyter.widget-view+json": {
       "model_id": "71534dc525904dfc96a86c18d2114b86",
       "version_major": 2,
       "version_minor": 0
      },
      "text/plain": [
       "Training...:   0%|          | 0/758 [00:00<?, ?it/s]"
      ]
     },
     "metadata": {},
     "output_type": "display_data"
    },
    {
     "name": "stdout",
     "output_type": "stream",
     "text": [
      "Train... (6/10 | Loss: 1.852000117301941, Learning Rate: 0.00011999999696854502)\n"
     ]
    },
    {
     "data": {
      "application/vnd.jupyter.widget-view+json": {
       "model_id": "88c1b6e5650d4dc2bac4a3df554cfac6",
       "version_major": 2,
       "version_minor": 0
      },
      "text/plain": [
       "Evaluation...:   0%|          | 0/40 [00:00<?, ?it/s]"
      ]
     },
     "metadata": {},
     "output_type": "display_data"
    },
    {
     "name": "stdout",
     "output_type": "stream",
     "text": [
      "Eval... (6/10 | Loss: 1.862762451171875 | Perplexity: 6.687985897064209)\n"
     ]
    },
    {
     "data": {
      "application/vnd.jupyter.widget-view+json": {
       "model_id": "ec942ac872034de78d6cd7002bf042c3",
       "version_major": 2,
       "version_minor": 0
      },
      "text/plain": [
       "Training...:   0%|          | 0/758 [00:00<?, ?it/s]"
      ]
     },
     "metadata": {},
     "output_type": "display_data"
    },
    {
     "name": "stdout",
     "output_type": "stream",
     "text": [
      "Train... (7/10 | Loss: 1.8250000476837158, Learning Rate: 9.000000136438757e-05)\n"
     ]
    },
    {
     "data": {
      "application/vnd.jupyter.widget-view+json": {
       "model_id": "4dc1278fc02141f28e5e8d5d275893d2",
       "version_major": 2,
       "version_minor": 0
      },
      "text/plain": [
       "Evaluation...:   0%|          | 0/40 [00:00<?, ?it/s]"
      ]
     },
     "metadata": {},
     "output_type": "display_data"
    },
    {
     "name": "stdout",
     "output_type": "stream",
     "text": [
      "Eval... (7/10 | Loss: 1.8416788578033447 | Perplexity: 6.548841953277588)\n"
     ]
    },
    {
     "data": {
      "application/vnd.jupyter.widget-view+json": {
       "model_id": "29e713da08f34f0fbe435276e63264ff",
       "version_major": 2,
       "version_minor": 0
      },
      "text/plain": [
       "Training...:   0%|          | 0/758 [00:00<?, ?it/s]"
      ]
     },
     "metadata": {},
     "output_type": "display_data"
    },
    {
     "name": "stdout",
     "output_type": "stream",
     "text": [
      "Train... (8/10 | Loss: 1.8100000619888306, Learning Rate: 5.999999848427251e-05)\n"
     ]
    },
    {
     "data": {
      "application/vnd.jupyter.widget-view+json": {
       "model_id": "d93305d033e44791b494f48bcee59f26",
       "version_major": 2,
       "version_minor": 0
      },
      "text/plain": [
       "Evaluation...:   0%|          | 0/40 [00:00<?, ?it/s]"
      ]
     },
     "metadata": {},
     "output_type": "display_data"
    },
    {
     "name": "stdout",
     "output_type": "stream",
     "text": [
      "Eval... (8/10 | Loss: 1.8258028030395508 | Perplexity: 6.445103645324707)\n"
     ]
    },
    {
     "data": {
      "application/vnd.jupyter.widget-view+json": {
       "model_id": "9f6e85f0f2b540229a9deff8b85b0d6c",
       "version_major": 2,
       "version_minor": 0
      },
      "text/plain": [
       "Training...:   0%|          | 0/758 [00:00<?, ?it/s]"
      ]
     },
     "metadata": {},
     "output_type": "display_data"
    },
    {
     "name": "stdout",
     "output_type": "stream",
     "text": [
      "Train... (9/10 | Loss: 1.811000108718872, Learning Rate: 2.9999999242136255e-05)\n"
     ]
    },
    {
     "data": {
      "application/vnd.jupyter.widget-view+json": {
       "model_id": "de7d1e79bda44123b66894ca3795fb2b",
       "version_major": 2,
       "version_minor": 0
      },
      "text/plain": [
       "Evaluation...:   0%|          | 0/40 [00:00<?, ?it/s]"
      ]
     },
     "metadata": {},
     "output_type": "display_data"
    },
    {
     "name": "stdout",
     "output_type": "stream",
     "text": [
      "Eval... (9/10 | Loss: 1.8161194324493408 | Perplexity: 6.384854793548584)\n"
     ]
    },
    {
     "data": {
      "application/vnd.jupyter.widget-view+json": {
       "model_id": "b7a403fd795e4026a264d69918605821",
       "version_major": 2,
       "version_minor": 0
      },
      "text/plain": [
       "Training...:   0%|          | 0/758 [00:00<?, ?it/s]"
      ]
     },
     "metadata": {},
     "output_type": "display_data"
    },
    {
     "name": "stdout",
     "output_type": "stream",
     "text": [
      "Train... (10/10 | Loss: 1.7760001420974731, Learning Rate: 0.0)\n"
     ]
    },
    {
     "data": {
      "application/vnd.jupyter.widget-view+json": {
       "model_id": "d1ab43c688104a028801caf1ca4d5a01",
       "version_major": 2,
       "version_minor": 0
      },
      "text/plain": [
       "Evaluation...:   0%|          | 0/40 [00:00<?, ?it/s]"
      ]
     },
     "metadata": {},
     "output_type": "display_data"
    },
    {
     "name": "stdout",
     "output_type": "stream",
     "text": [
      "Eval... (10/10 | Loss: 1.8110542297363281 | Perplexity: 6.354654788970947)\n"
     ]
    }
   ],
   "source": [
    "for epoch in tqdm(range(1, num_epochs + 1), desc=f\"Epoch ...\", position=0, leave=True):\n",
    "    rng, input_rng = jax.random.split(rng)\n",
    "\n",
    "    # -- Train --\n",
    "    train_loader = data_loader(input_rng, tokenized_datasets[\"train\"], total_batch_size, shuffle=True)\n",
    "    with tqdm(total=len(tokenized_datasets[\"train\"]) // total_batch_size, desc=\"Training...\", leave=False) as progress_bar_train:\n",
    "        for model_inputs in train_loader:\n",
    "            # Model forward\n",
    "            state, train_metric, dropout_rngs = parallel_train_step(state, model_inputs, dropout_rngs)\n",
    "\n",
    "            progress_bar_train.update(1)\n",
    "\n",
    "        progress_bar_train.write(\n",
    "              f\"Train... ({epoch}/{num_epochs} | Loss: {round(train_metric['loss'].mean(), 3)}, Learning Rate: {round(train_metric['learning_rate'].mean(), 6)})\"\n",
    "        )\n",
    "\n",
    "    # -- Eval --\n",
    "    eval_loader = data_loader(input_rng, tokenized_datasets[\"validation\"], total_batch_size)\n",
    "    eval_metrics = []\n",
    "   \n",
    "    with tqdm(total=len(tokenized_datasets[\"validation\"]) // total_batch_size, desc=\"Evaluation...\", leave=False) as progress_bar_eval:\n",
    "        for model_inputs in eval_loader:\n",
    "            # Model forward\n",
    "            eval_metric = parallel_eval_step(state.params, model_inputs)\n",
    "            eval_metrics.append(eval_metric)\n",
    "\n",
    "            progress_bar_eval.update(1)\n",
    " \n",
    "        eval_metrics = get_metrics(eval_metrics)\n",
    "        eval_metrics = jax.tree_map(jnp.mean, eval_metrics)\n",
    "        progress_bar_eval.write(\n",
    "            f\"Eval... ({epoch}/{num_epochs} | Loss: {eval_metrics['loss']} | Perplexity: {eval_metrics['perplexity']})\"\n",
    "        )"
   ]
  },
  {
   "cell_type": "code",
   "execution_count": null,
   "id": "022b513a-a6eb-41be-9371-941c5e65fa86",
   "metadata": {},
   "outputs": [],
   "source": []
  }
 ],
 "metadata": {
  "kernelspec": {
   "display_name": "Python 3 (ipykernel)",
   "language": "python",
   "name": "python3"
  },
  "language_info": {
   "codemirror_mode": {
    "name": "ipython",
    "version": 3
   },
   "file_extension": ".py",
   "mimetype": "text/x-python",
   "name": "python",
   "nbconvert_exporter": "python",
   "pygments_lexer": "ipython3",
   "version": "3.8.10"
  }
 },
 "nbformat": 4,
 "nbformat_minor": 5
}
